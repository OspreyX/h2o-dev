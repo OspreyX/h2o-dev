{
 "metadata": {
  "name": "",
  "signature": "sha256:e330114e830b3e3e6659498634597809190c2de43dc4e819d8fa30f06182d2f3"
 },
 "nbformat": 3,
 "nbformat_minor": 0,
 "worksheets": [
  {
   "cells": [
    {
     "cell_type": "code",
     "collapsed": false,
     "input": [
      "# This is a demo of H2O's GLM function\n",
      "# It imports a data set, parses it, and prints a summary\n",
      "# Then, it runs GLM with a binomial link function\n",
      "import h2o"
     ],
     "language": "python",
     "metadata": {},
     "outputs": [],
     "prompt_number": 1
    },
    {
     "cell_type": "code",
     "collapsed": false,
     "input": [
      "h2o.init()"
     ],
     "language": "python",
     "metadata": {},
     "outputs": [
      {
       "output_type": "stream",
       "stream": "stdout",
       "text": [
        "\n",
        "--------------------------  -------------------------------------\n",
        "H2O cluster uptime:         1 minutes 43 seconds 725 milliseconds\n",
        "H2O cluster version:        0.3.0.99999\n",
        "H2O cluster name:           ece\n",
        "H2O cluster total nodes:    1\n",
        "H2O cluster total memory:   3.56 GB\n",
        "H2O cluster total cores:    8\n",
        "H2O cluster allowed cores:  8\n",
        "H2O cluster healthy:        True\n",
        "--------------------------  -------------------------------------\n",
        "\n"
       ]
      }
     ],
     "prompt_number": 2
    },
    {
     "cell_type": "code",
     "collapsed": false,
     "input": [
      "air = h2o.upload_file(path=h2o.locate(\"smalldata/airlines/AirlinesTrain.csv.zip\"))"
     ],
     "language": "python",
     "metadata": {},
     "outputs": [
      {
       "output_type": "stream",
       "stream": "stdout",
       "text": [
        "\n",
        "\r",
        "Parse Progress: [                                                  ] 00%"
       ]
      },
      {
       "output_type": "stream",
       "stream": "stdout",
       "text": [
        "\r",
        "Parse Progress: [##################################################] 100%"
       ]
      },
      {
       "output_type": "stream",
       "stream": "stdout",
       "text": [
        "\n",
        "Uploaded py57c9b4e9-fe0b-4c7e-b3dd-5fe12310e8eb into cluster with 24421 rows and 12 cols\n"
       ]
      }
     ],
     "prompt_number": 3
    },
    {
     "cell_type": "code",
     "collapsed": false,
     "input": [
      "r = air[0].runif()\n",
      "air_train = air[r < 0.8]\n",
      "air_valid = air[r >= 0.8]"
     ],
     "language": "python",
     "metadata": {},
     "outputs": [],
     "prompt_number": 4
    },
    {
     "cell_type": "code",
     "collapsed": false,
     "input": [
      "myX = [\"Origin\", \"Dest\", \"Distance\", \"UniqueCarrier\", \"fMonth\", \"fDayofMonth\", \"fDayOfWeek\"]\n",
      "myY = \"IsDepDelayed\""
     ],
     "language": "python",
     "metadata": {},
     "outputs": [],
     "prompt_number": 5
    },
    {
     "cell_type": "code",
     "collapsed": false,
     "input": [
      "rf_no_bal = h2o.random_forest(x=air_train[myX], y=air_train[myY], validation_x= air_valid[myX],\n",
      "                              validation_y=air_valid[myY], seed=12, ntrees=10, max_depth=20, balance_classes=False)\n",
      "rf_no_bal.show()"
     ],
     "language": "python",
     "metadata": {},
     "outputs": [
      {
       "output_type": "stream",
       "stream": "stdout",
       "text": [
        "\n",
        "\r",
        "drf Model Build Progress: [                                                  ] 00%"
       ]
      },
      {
       "output_type": "stream",
       "stream": "stdout",
       "text": [
        "\r",
        "drf Model Build Progress: [#####                                             ] 10%"
       ]
      },
      {
       "output_type": "stream",
       "stream": "stdout",
       "text": [
        "\r",
        "drf Model Build Progress: [###############                                   ] 30%"
       ]
      },
      {
       "output_type": "stream",
       "stream": "stdout",
       "text": [
        "\r",
        "drf Model Build Progress: [#########################                         ] 50%"
       ]
      },
      {
       "output_type": "stream",
       "stream": "stdout",
       "text": [
        "\r",
        "drf Model Build Progress: [###################################               ] 70%"
       ]
      },
      {
       "output_type": "stream",
       "stream": "stdout",
       "text": [
        "\r",
        "drf Model Build Progress: [#############################################     ] 90%"
       ]
      },
      {
       "output_type": "stream",
       "stream": "stdout",
       "text": [
        "\r",
        "drf Model Build Progress: [##################################################] 100%"
       ]
      },
      {
       "output_type": "stream",
       "stream": "stdout",
       "text": [
        "\n",
        "Model Details\n",
        "=============\n",
        "H2OBinomialModel :  Distributed RF\n",
        "Model Key:  DRFModel__b098b2fbb51be9d35f10e332b9694be1\n",
        "\n",
        "\n",
        "Model Summary:\n",
        "\n",
        "    number_of_trees    min_depth    max_depth    mean_depth    min_leaves    max_leaves    mean_leaves\n",
        "--  -----------------  -----------  -----------  ------------  ------------  ------------  -------------\n",
        "    20                 20           20           20            1425          2778          2246.3\n",
        "\n",
        "\n",
        "\n",
        "\n",
        "Scoring History:\n",
        "\n",
        "    number_of_trees    training_MSE    validation_MSE\n",
        "--  -----------------  --------------  ----------------\n",
        "    1                  0.207105        0.238346\n",
        "    2                  0.195004        0.226862\n",
        "    3                  0.190761        0.223711\n",
        "    4                  0.188984        0.22254\n",
        "    5                  0.188317        0.222023\n",
        "    6                  0.189561        0.221356\n",
        "    7                  0.188786        0.220511\n",
        "    8                  0.187774        0.219965\n",
        "    9                  0.187575        0.220036\n",
        "    10                 0.186995        0.219316\n",
        "\n",
        "\n",
        "Variable Importances:\n",
        "\n",
        "variable       relative_importance    scaled_importance    percentage\n",
        "-------------  ---------------------  -------------------  ------------\n",
        "Origin         5309.71                1                    0.256127\n",
        "fDayofMonth    4786.26                0.901417             0.230877\n",
        "Distance       3387.21                0.637927             0.16339\n",
        "Dest           3225.28                0.60743              0.155579\n",
        "UniqueCarrier  2187.08                0.411902             0.105499\n",
        "fDayOfWeek     1649.83                0.310719             0.0795835\n",
        "fMonth         185.436                0.034924             0.00894496\n",
        "\n"
       ]
      }
     ],
     "prompt_number": 6
    },
    {
     "cell_type": "code",
     "collapsed": false,
     "input": [
      "rf_bal = h2o.random_forest(x=air_train[myX], y=air_train[myY], validation_x= air_valid[myX],\n",
      "                               validation_y=air_valid[myY], seed=12, ntrees=10, max_depth=20, balance_classes=True)\n",
      "rf_bal.show()"
     ],
     "language": "python",
     "metadata": {},
     "outputs": [
      {
       "output_type": "stream",
       "stream": "stdout",
       "text": [
        "\n",
        "\r",
        "drf Model Build Progress: [                                                  ] 00%"
       ]
      },
      {
       "output_type": "stream",
       "stream": "stdout",
       "text": [
        "\r",
        "drf Model Build Progress: [#####                                             ] 10%"
       ]
      },
      {
       "output_type": "stream",
       "stream": "stdout",
       "text": [
        "\r",
        "drf Model Build Progress: [##########                                        ] 20%"
       ]
      },
      {
       "output_type": "stream",
       "stream": "stdout",
       "text": [
        "\r",
        "drf Model Build Progress: [####################                              ] 40%"
       ]
      },
      {
       "output_type": "stream",
       "stream": "stdout",
       "text": [
        "\r",
        "drf Model Build Progress: [##############################                    ] 60%"
       ]
      },
      {
       "output_type": "stream",
       "stream": "stdout",
       "text": [
        "\r",
        "drf Model Build Progress: [########################################          ] 80%"
       ]
      },
      {
       "output_type": "stream",
       "stream": "stdout",
       "text": [
        "\r",
        "drf Model Build Progress: [#############################################     ] 90%"
       ]
      },
      {
       "output_type": "stream",
       "stream": "stdout",
       "text": [
        "\r",
        "drf Model Build Progress: [##################################################] 100%"
       ]
      },
      {
       "output_type": "stream",
       "stream": "stdout",
       "text": [
        "\n",
        "Model Details\n",
        "=============\n",
        "H2OBinomialModel :  Distributed RF\n",
        "Model Key:  DRFModel__84124158107aab323288ae52845b4e97\n",
        "\n",
        "\n",
        "Model Summary:\n",
        "\n",
        "    number_of_trees    min_depth    max_depth    mean_depth    min_leaves    max_leaves    mean_leaves\n",
        "--  -----------------  -----------  -----------  ------------  ------------  ------------  -------------\n",
        "    20                 20           20           20            1640          2835          2373.65\n",
        "\n",
        "\n",
        "\n",
        "\n",
        "Scoring History:\n",
        "\n",
        "    number_of_trees    training_MSE    validation_MSE\n",
        "--  -----------------  --------------  ----------------\n",
        "    1                  0.206194        0.238787\n",
        "    2                  0.191079        0.228318\n",
        "    3                  0.1887          0.224964\n",
        "    4                  0.187795        0.223275\n",
        "    5                  0.186149        0.22244\n",
        "    6                  0.187041        0.220935\n",
        "    7                  0.186752        0.220638\n",
        "    8                  0.185998        0.220009\n",
        "    9                  0.185879        0.219655\n",
        "    10                 0.185534        0.219194\n",
        "\n",
        "\n",
        "Variable Importances:\n",
        "\n",
        "variable       relative_importance    scaled_importance    percentage\n",
        "-------------  ---------------------  -------------------  ------------\n",
        "fDayofMonth    5975.52                1                    0.244383\n",
        "Origin         5825.32                0.974864             0.23824\n",
        "Distance       4092.06                0.684805             0.167355\n",
        "Dest           3740.36                0.625947             0.152971\n",
        "UniqueCarrier  2842.33                0.475662             0.116244\n",
        "fDayOfWeek     1741.29                0.291405             0.0712143\n",
        "fMonth         234.591                0.0392586            0.00959414\n",
        "\n"
       ]
      }
     ],
     "prompt_number": 7
    },
    {
     "cell_type": "code",
     "collapsed": false,
     "input": [
      "air_test = h2o.import_frame(path=h2o.locate(\"smalldata/airlines/AirlinesTest.csv.zip\"))"
     ],
     "language": "python",
     "metadata": {},
     "outputs": [
      {
       "output_type": "stream",
       "stream": "stdout",
       "text": [
        "\n",
        "\r",
        "Parse Progress: [                                                  ] 00%"
       ]
      },
      {
       "output_type": "stream",
       "stream": "stdout",
       "text": [
        "\r",
        "Parse Progress: [##################################################] 100%"
       ]
      },
      {
       "output_type": "stream",
       "stream": "stdout",
       "text": [
        "\n",
        "Veckeys [{u'URL': None, u'type': u'Key<Vec>', u'name': u'$04ff19010000ffffffff$nfs://Users/ece/0xdata/h2o-dev/smalldata/airlines/AirlinesTest.csv.zip', u'__meta': {u'schema_name': u'VecKeyV3', u'schema_version': 3, u'schema_type': u'Key<Vec>'}}, {u'URL': None, u'type': u'Key<Vec>', u'name': u'$04ff1a010000ffffffff$nfs://Users/ece/0xdata/h2o-dev/smalldata/airlines/AirlinesTest.csv.zip', u'__meta': {u'schema_name': u'VecKeyV3', u'schema_version': 3, u'schema_type': u'Key<Vec>'}}, {u'URL': None, u'type': u'Key<Vec>', u'name': u'$04ff1b010000ffffffff$nfs://Users/ece/0xdata/h2o-dev/smalldata/airlines/AirlinesTest.csv.zip', u'__meta': {u'schema_name': u'VecKeyV3', u'schema_version': 3, u'schema_type': u'Key<Vec>'}}, {u'URL': None, u'type': u'Key<Vec>', u'name': u'$04ff1c010000ffffffff$nfs://Users/ece/0xdata/h2o-dev/smalldata/airlines/AirlinesTest.csv.zip', u'__meta': {u'schema_name': u'VecKeyV3', u'schema_version': 3, u'schema_type': u'Key<Vec>'}}, {u'URL': None, u'type': u'Key<Vec>', u'name': u'$04ff1d010000ffffffff$nfs://Users/ece/0xdata/h2o-dev/smalldata/airlines/AirlinesTest.csv.zip', u'__meta': {u'schema_name': u'VecKeyV3', u'schema_version': 3, u'schema_type': u'Key<Vec>'}}, {u'URL': None, u'type': u'Key<Vec>', u'name': u'$04ff1e010000ffffffff$nfs://Users/ece/0xdata/h2o-dev/smalldata/airlines/AirlinesTest.csv.zip', u'__meta': {u'schema_name': u'VecKeyV3', u'schema_version': 3, u'schema_type': u'Key<Vec>'}}, {u'URL': None, u'type': u'Key<Vec>', u'name': u'$04ff1f010000ffffffff$nfs://Users/ece/0xdata/h2o-dev/smalldata/airlines/AirlinesTest.csv.zip', u'__meta': {u'schema_name': u'VecKeyV3', u'schema_version': 3, u'schema_type': u'Key<Vec>'}}, {u'URL': None, u'type': u'Key<Vec>', u'name': u'$04ff20010000ffffffff$nfs://Users/ece/0xdata/h2o-dev/smalldata/airlines/AirlinesTest.csv.zip', u'__meta': {u'schema_name': u'VecKeyV3', u'schema_version': 3, u'schema_type': u'Key<Vec>'}}, {u'URL': None, u'type': u'Key<Vec>', u'name': u'$04ff21010000ffffffff$nfs://Users/ece/0xdata/h2o-dev/smalldata/airlines/AirlinesTest.csv.zip', u'__meta': {u'schema_name': u'VecKeyV3', u'schema_version': 3, u'schema_type': u'Key<Vec>'}}, {u'URL': None, u'type': u'Key<Vec>', u'name': u'$04ff22010000ffffffff$nfs://Users/ece/0xdata/h2o-dev/smalldata/airlines/AirlinesTest.csv.zip', u'__meta': {u'schema_name': u'VecKeyV3', u'schema_version': 3, u'schema_type': u'Key<Vec>'}}, {u'URL': None, u'type': u'Key<Vec>', u'name': u'$04ff23010000ffffffff$nfs://Users/ece/0xdata/h2o-dev/smalldata/airlines/AirlinesTest.csv.zip', u'__meta': {u'schema_name': u'VecKeyV3', u'schema_version': 3, u'schema_type': u'Key<Vec>'}}, {u'URL': None, u'type': u'Key<Vec>', u'name': u'$04ff24010000ffffffff$nfs://Users/ece/0xdata/h2o-dev/smalldata/airlines/AirlinesTest.csv.zip', u'__meta': {u'schema_name': u'VecKeyV3', u'schema_version': 3, u'schema_type': u'Key<Vec>'}}]\n",
        "Imported /Users/ece/0xdata/h2o-dev/smalldata/airlines/AirlinesTest.csv.zip into cluster with 2691 rows and 12 cols\n"
       ]
      }
     ],
     "prompt_number": 8
    },
    {
     "cell_type": "code",
     "collapsed": false,
     "input": [
      "def model(model_object, test):\n",
      "        #predicting on test file\n",
      "        pred = model_object.predict(test)\n",
      "        pred.head()\n",
      "        #Building confusion matrix for test set\n",
      "        perf = model_object.model_performance(test)\n",
      "        perf.show()\n",
      "        print(perf.confusion_matrices())\n",
      "        print(perf.precision())\n",
      "        print(perf.accuracy())\n",
      "        print(perf.auc())"
     ],
     "language": "python",
     "metadata": {},
     "outputs": [],
     "prompt_number": 9
    },
    {
     "cell_type": "code",
     "collapsed": false,
     "input": [
      "print(\"\\n\\nWITHOUT CLASS BALANCING\\n\")\n",
      "model(rf_no_bal, air_test)"
     ],
     "language": "python",
     "metadata": {},
     "outputs": [
      {
       "output_type": "stream",
       "stream": "stdout",
       "text": [
        "\n",
        "\n",
        "WITHOUT CLASS BALANCING\n",
        "\n",
        "First"
       ]
      },
      {
       "output_type": "stream",
       "stream": "stdout",
       "text": [
        " 10 rows and first 3 columns: \n",
        "  Row ID    predict        NO       YES\n",
        "--------  ---------  --------  --------\n",
        "       1          1  0.324614  0.675386\n",
        "       2          1  0.416894  0.583106\n",
        "       3          1  0.47367   0.52633\n",
        "       4          1  0.437335  0.562665\n",
        "       5          1  0.466191  0.533809\n",
        "       6          0  0.59112   0.40888\n",
        "       7          0  0.602362  0.397638\n",
        "       8          0  0.553043  0.446957\n",
        "       9          0  0.500857  0.499143\n",
        "      10          0  0.639973  0.360027\n",
        "\n",
        "\n"
       ]
      },
      {
       "output_type": "stream",
       "stream": "stdout",
       "text": [
        "Overall AUC (independent of criterion): 0.703077668355\n",
        "Overall Gini (independent of criterion): 0.40615533671\n",
        "\n",
        "\n",
        "Maximum Metric:\n",
        "\n",
        "metric                  threshold        value           idx\n",
        "----------------------  ---------------  --------------  -----\n",
        "f1                      0.384442567332   0.732157394844  189.0\n",
        "f2                      0.209717739144   0.861300164281  239.0\n",
        "f0point5                0.533429292818   0.683424980361  133.0\n",
        "accuracy                0.533429292818   0.655518394649  133.0\n",
        "precision               0.862665518965   0.975609756098  12.0\n",
        "recall                  0.134243134699   1.0             252.0\n",
        "specificity             0.942965086026   0.999178307313\n",
        "absolute_MCC            0.533429292818   0.301726730934  133.0\n",
        "min_per_class_accuracy  0.558163899325   0.645028759244  122.0\n",
        "tns                     0.942965086026   1216.0\n",
        "fns                     0.942965086026   1474.0\n",
        "fps                     0.0923360440713  1217.0          255.0\n",
        "tps                     0.134243134699   1474.0          252.0\n",
        "idx\n",
        "\n",
        "\n",
        "[[[355.0, 862.0], [125.0, 1349.0]]]\n",
        "[[0.8626655189651291, 0.975609756097561]]\n",
        "[[0.5334292928175038, 0.6555183946488294]]\n",
        "0.703077668355\n"
       ]
      }
     ],
     "prompt_number": 10
    },
    {
     "cell_type": "code",
     "collapsed": false,
     "input": [
      "print(\"\\n\\nWITH CLASS BALANCING\\n\")\n",
      "model(rf_bal, air_test)"
     ],
     "language": "python",
     "metadata": {},
     "outputs": [
      {
       "output_type": "stream",
       "stream": "stdout",
       "text": [
        "\n",
        "\n",
        "WITH CLASS BALANCING\n",
        "\n",
        "First"
       ]
      },
      {
       "output_type": "stream",
       "stream": "stdout",
       "text": [
        " 10 rows and first 3 columns: \n",
        "  Row ID    predict        NO       YES\n",
        "--------  ---------  --------  --------\n",
        "       1          1  0.277992  0.722008\n",
        "       2          1  0.449086  0.550914\n",
        "       3          1  0.323875  0.676125\n",
        "       4          1  0.425001  0.574999\n",
        "       5          1  0.477052  0.522948\n",
        "       6          0  0.540452  0.459548\n",
        "       7          0  0.615304  0.384696\n",
        "       8          0  0.530725  0.469275\n",
        "       9          0  0.562129  0.437871\n",
        "      10          0  0.521975  0.478025\n",
        "\n",
        "\n"
       ]
      },
      {
       "output_type": "stream",
       "stream": "stdout",
       "text": [
        "Overall AUC (independent of criterion): 0.711920341521\n",
        "Overall Gini (independent of criterion): 0.423840683042\n",
        "\n",
        "\n",
        "Maximum Metric:\n",
        "\n",
        "metric                  threshold        value           idx\n",
        "----------------------  ---------------  --------------  -----\n",
        "f1                      0.359004968234   0.729744136461  199.0\n",
        "f2                      0.14170701813    0.858974358974  249.0\n",
        "f0point5                0.572091895435   0.694648632755  123.0\n",
        "accuracy                0.544110031709   0.661464139725  134.0\n",
        "precision               1.0              1.0\n",
        "recall                  0.14170701813    1.0             249.0\n",
        "specificity             1.0              1.0\n",
        "absolute_MCC            0.572091895435   0.321656799053  123.0\n",
        "min_per_class_accuracy  0.563479668231   0.654002713704  126.0\n",
        "tns                     1.0              1217.0\n",
        "fns                     1.0              1473.0\n",
        "fps                     0.0596808683125  1217.0          255.0\n",
        "tps                     0.14170701813    1474.0          249.0\n",
        "idx\n",
        "\n",
        "\n",
        "[[[308.0, 909.0], [105.0, 1369.0]]]\n",
        "[[1.0, 1.0]]\n",
        "[[0.5441100317091915, 0.6614641397250093]]\n",
        "0.711920341521\n"
       ]
      }
     ],
     "prompt_number": 11
    }
   ],
   "metadata": {}
  }
 ]
}