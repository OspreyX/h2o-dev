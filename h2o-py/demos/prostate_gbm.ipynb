{
 "metadata": {
  "name": ""
 },
 "nbformat": 3,
 "nbformat_minor": 0,
 "worksheets": [
  {
   "cells": [
    {
     "cell_type": "code",
     "collapsed": false,
     "input": [
      "import sys\n",
      "import h2o"
     ],
     "language": "python",
     "metadata": {},
     "outputs": []
    },
    {
     "cell_type": "code",
     "collapsed": false,
     "input": [
      "# Connect to a pre-existing cluster\n",
      "h2o.init()"
     ],
     "language": "python",
     "metadata": {},
     "outputs": []
    },
    {
     "cell_type": "code",
     "collapsed": false,
     "input": [
      "df = h2o.import_frame(path=h2o.locate(\"smalldata/logreg/prostate.csv\"))"
     ],
     "language": "python",
     "metadata": {},
     "outputs": []
    },
    {
     "cell_type": "code",
     "collapsed": false,
     "input": [
      "df.describe()"
     ],
     "language": "python",
     "metadata": {},
     "outputs": []
    },
    {
     "cell_type": "code",
     "collapsed": false,
     "input": [
      "# Remove ID from training frame\n",
      "train = df.drop(\"ID\")"
     ],
     "language": "python",
     "metadata": {},
     "outputs": []
    },
    {
     "cell_type": "code",
     "collapsed": false,
     "input": [
      "# For VOL & GLEASON, a zero really means \"missing\"\n",
      "vol = train['VOL']\n",
      "vol[vol == 0] = None\n",
      "gle = train['GLEASON']\n",
      "gle[gle == 0] = None"
     ],
     "language": "python",
     "metadata": {},
     "outputs": []
    },
    {
     "cell_type": "code",
     "collapsed": false,
     "input": [
      "# Convert CAPSULE to a logical factor\n",
      "train['CAPSULE'] = train['CAPSULE'].asfactor()"
     ],
     "language": "python",
     "metadata": {},
     "outputs": []
    },
    {
     "cell_type": "code",
     "collapsed": false,
     "input": [
      "# See that the data is ready\n",
      "train.describe()"
     ],
     "language": "python",
     "metadata": {},
     "outputs": []
    },
    {
     "cell_type": "code",
     "collapsed": false,
     "input": [
      "# Run GBM\n",
      "my_gbm = h2o.gbm(           y=train[\"CAPSULE\"],\n",
      "                 validation_y=train[\"CAPSULE\"],\n",
      "                            x=train[1:],\n",
      "                 validation_x=train[1:],\n",
      "                 distribution = \"bernoulli\",\n",
      "                 ntrees=50,\n",
      "                 learn_rate=0.1)"
     ],
     "language": "python",
     "metadata": {},
     "outputs": []
    },
    {
     "cell_type": "code",
     "collapsed": false,
     "input": [
      "my_gbm_metrics = my_gbm.model_performance(train)\n",
      "my_gbm_metrics.show()"
     ],
     "language": "python",
     "metadata": {},
     "outputs": []
    }
   ],
   "metadata": {}
  }
 ]
}