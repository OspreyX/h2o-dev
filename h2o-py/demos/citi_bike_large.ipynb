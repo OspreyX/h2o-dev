{
 "metadata": {
  "kernelspec": {
   "display_name": "Python 2",
   "language": "python",
   "name": "python2"
  },
  "language_info": {
   "codemirror_mode": {
    "name": "ipython",
    "version": 2
   },
   "file_extension": ".py",
   "mimetype": "text/x-python",
   "name": "python",
   "nbconvert_exporter": "python",
   "pygments_lexer": "ipython2",
   "version": "2.7.9"
  },
  "name": "",
  "signature": "sha256:c74cf95553edb26e15af1d9d0a3107da0916c3b429394900c5eaedc46926b962"
 },
 "nbformat": 3,
 "nbformat_minor": 0,
 "worksheets": [
  {
   "cells": [
    {
     "cell_type": "code",
     "collapsed": false,
     "input": [
      "import h2o\n"
     ],
     "language": "python",
     "metadata": {},
     "outputs": [],
     "prompt_number": 1
    },
    {
     "cell_type": "code",
     "collapsed": false,
     "input": [
      "\n",
      "# Explore a typical Data Science workflow with H2O and Python\n",
      "#\n",
      "# Goal: assist the manager of CitiBike of NYC to load-balance the bicycles\n",
      "# across the CitiBike network of stations, by predicting the number of bike\n",
      "# trips taken from the station every day.  Use 10 million rows of historical\n",
      "# data, and eventually add weather data.\n",
      "\n",
      "\n",
      "# Connect to a cluster\n",
      "h2o.init()\n"
     ],
     "language": "python",
     "metadata": {},
     "outputs": [
      {
       "output_type": "stream",
       "stream": "stdout",
       "text": [
        "\n",
        "--------------------------  ---------------------------\n",
        "H2O cluster uptime:         21 seconds 319 milliseconds\n",
        "H2O cluster version:        0.3.0.99999\n",
        "H2O cluster name:           cliffc\n",
        "H2O cluster total nodes:    1\n",
        "H2O cluster total memory:   7.67 GB\n",
        "H2O cluster total cores:    4\n",
        "H2O cluster allowed cores:  4\n",
        "H2O cluster healthy:        True\n",
        "H2O Connection ip:          127.0.0.1\n",
        "H2O Connection port:        54321\n",
        "--------------------------  ---------------------------\n",
        "\n",
        "Warning: Version mismatch. H2O is version 0.3.0.99999, but the python package is version UNKNOWN.\n"
       ]
      }
     ],
     "prompt_number": 2
    },
    {
     "cell_type": "code",
     "collapsed": true,
     "input": [
      "# Set this to True if you want to fetch the data directly from S3.\n",
      "# This is useful if your cluster is running in EC2.\n",
      "data_source_is_s3 = False\n",
      "\n",
      "def mylocate(s):\n",
      "    if data_source_is_s3:\n",
      "        return \"s3n://h2o-public-test-data/\" + s\n",
      "    else:\n",
      "        return h2o.locate(s)\n"
     ],
     "language": "python",
     "metadata": {},
     "outputs": [],
     "prompt_number": 3
    },
    {
     "cell_type": "code",
     "collapsed": false,
     "input": [
      "# Pick either the big or the small demo.\n",
      "# Big data is 10M rows\n",
      "small_test = [mylocate(\"bigdata/laptop/citibike-nyc/2013-10.csv\")]\n",
      "big_test =   [mylocate(\"bigdata/laptop/citibike-nyc/2013-07.csv\"),\n",
      "              mylocate(\"bigdata/laptop/citibike-nyc/2013-08.csv\"),\n",
      "              mylocate(\"bigdata/laptop/citibike-nyc/2013-09.csv\"),\n",
      "              mylocate(\"bigdata/laptop/citibike-nyc/2013-10.csv\"),\n",
      "              mylocate(\"bigdata/laptop/citibike-nyc/2013-11.csv\"),\n",
      "              mylocate(\"bigdata/laptop/citibike-nyc/2013-12.csv\"),\n",
      "              mylocate(\"bigdata/laptop/citibike-nyc/2014-01.csv\"),\n",
      "              mylocate(\"bigdata/laptop/citibike-nyc/2014-02.csv\"),\n",
      "              mylocate(\"bigdata/laptop/citibike-nyc/2014-03.csv\"),\n",
      "              mylocate(\"bigdata/laptop/citibike-nyc/2014-04.csv\"),\n",
      "              mylocate(\"bigdata/laptop/citibike-nyc/2014-05.csv\"),\n",
      "              mylocate(\"bigdata/laptop/citibike-nyc/2014-06.csv\"),\n",
      "              mylocate(\"bigdata/laptop/citibike-nyc/2014-07.csv\"),\n",
      "              mylocate(\"bigdata/laptop/citibike-nyc/2014-08.csv\")]\n",
      "\n",
      "# ----------\n",
      "\n",
      "# 1- Load data - 1 row per bicycle trip.  Has columns showing the start and end\n",
      "# station, trip duration and trip start time and day.  The larger dataset\n",
      "# totals about 10 million rows\n",
      "print \"Import and Parse bike data\"\n",
      "data = h2o.import_frame(path=big_test)\n"
     ],
     "language": "python",
     "metadata": {},
     "outputs": [
      {
       "output_type": "stream",
       "stream": "stdout",
       "text": [
        "Import and Parse bike data\n",
        "\n"
       ]
      },
      {
       "output_type": "stream",
       "stream": "stdout",
       "text": [
        "\r",
        "Parse Progress: [                                                  ] 00%"
       ]
      },
      {
       "output_type": "stream",
       "stream": "stdout",
       "text": [
        "\r",
        "Parse Progress: [##################################################] 100%"
       ]
      },
      {
       "output_type": "stream",
       "stream": "stdout",
       "text": [
        "\n",
        "Imported ['C:\\\\users\\\\cliffc\\\\Desktop\\\\h2o-dev\\\\bigdata/laptop/citibike-nyc/2013-07.csv', 'C:\\\\users\\\\cliffc\\\\Desktop\\\\h2o-dev\\\\bigdata/laptop/citibike-nyc/2013-08.csv', 'C:\\\\users\\\\cliffc\\\\Desktop\\\\h2o-dev\\\\bigdata/laptop/citibike-nyc/2013-09.csv', 'C:\\\\users\\\\cliffc\\\\Desktop\\\\h2o-dev\\\\bigdata/laptop/citibike-nyc/2013-10.csv', 'C:\\\\users\\\\cliffc\\\\Desktop\\\\h2o-dev\\\\bigdata/laptop/citibike-nyc/2013-11.csv', 'C:\\\\users\\\\cliffc\\\\Desktop\\\\h2o-dev\\\\bigdata/laptop/citibike-nyc/2013-12.csv', 'C:\\\\users\\\\cliffc\\\\Desktop\\\\h2o-dev\\\\bigdata/laptop/citibike-nyc/2014-01.csv', 'C:\\\\users\\\\cliffc\\\\Desktop\\\\h2o-dev\\\\bigdata/laptop/citibike-nyc/2014-02.csv', 'C:\\\\users\\\\cliffc\\\\Desktop\\\\h2o-dev\\\\bigdata/laptop/citibike-nyc/2014-03.csv', 'C:\\\\users\\\\cliffc\\\\Desktop\\\\h2o-dev\\\\bigdata/laptop/citibike-nyc/2014-04.csv', 'C:\\\\users\\\\cliffc\\\\Desktop\\\\h2o-dev\\\\bigdata/laptop/citibike-nyc/2014-05.csv', 'C:\\\\users\\\\cliffc\\\\Desktop\\\\h2o-dev\\\\bigdata/laptop/citibike-nyc/2014-06.csv', 'C:\\\\users\\\\cliffc\\\\Desktop\\\\h2o-dev\\\\bigdata/laptop/citibike-nyc/2014-07.csv', 'C:\\\\users\\\\cliffc\\\\Desktop\\\\h2o-dev\\\\bigdata/laptop/citibike-nyc/2014-08.csv'] into cluster with 10407546 rows and 15 cols\n"
       ]
      }
     ],
     "prompt_number": 4
    },
    {
     "cell_type": "code",
     "collapsed": false,
     "input": [
      "# ----------\n",
      "\n",
      "# 2- light data munging: group the bike starts per-day, converting the 10M rows\n",
      "# of trips to about 140,000 station&day combos - predicting the number of trip\n",
      "# starts per-station-per-day.\n",
      "\n",
      "# Convert start time to: Day since the Epoch\n",
      "startime = data[\"starttime\"]\n",
      "secsPerDay=1000*60*60*24\n",
      "data[\"Days\"] = (startime/secsPerDay).floor()\n",
      "data.describe()\n"
     ],
     "language": "python",
     "metadata": {},
     "outputs": [
      {
       "output_type": "stream",
       "stream": "stdout",
       "text": [
        "Rows: 10407546 Cols: 16\n",
        "               tripduration    starttime          stoptime           start station id    start station name    start station latitude    start station longitude    end station id    end station name    end station latitude    end station longitude    bikeid         usertype        birth year     gender          Days\n",
        "-------------  --------------  -----------------  -----------------  ------------------  --------------------  ------------------------  -------------------------  ----------------  ------------------  ----------------------  -----------------------  -------------  --------------  -------------  --------------  -------------\n",
        "type           int             time               time               int                 enum                  real                      real                       int               enum                real                    real                     int            enum            int            int             int\n",
        "mins           60.0            1.372662e+12       1.372662242e+12    72.0                0.0                   40.680342423              -74.01713445               72.0              0.0                 40.680342423            -74.01713445             14529.0        0.0             1899.0         0.0             15887.0\n",
        "mean           868.968726057   1.39099985823e+12  1.39100072718e+12  444.858835407       168.221531954         40.7343819823             -73.9910570182             445.259785544     169.27576741        40.7340868895           -73.9911707799           17895.6618358  0.880131781306  1975.79892394  1.08414654137   16099.0245177\n",
        "maxs           6250750.0       1.409554787e+12    1.409563605e+12    3002.0              339.0                 40.771522                 -73.9500479759             3002.0            339.0               40.771522               -73.9500479759           21689.0        1.0             1998.0         2.0             16314.0\n",
        "sigma          2985.10540532   11806578171.7      11806555707.8      355.755989765       103.210304227         0.0197100508736           0.0123453320185            360.070380844     103.205091206       0.0197309578633         0.0124311861598          1938.80517884  0.324807387506  11.132784905   0.563019777794  136.647269305\n",
        "zero_count     0               0                  0                  0                   56836                 0                         0                          0                 55167               0                       0                        0              1247534         0              1248517         0\n",
        "missing_count  0               0                  0                  0                   0                     0                         0                          0                 0                   0                       0                        0              0               1247644        0               0"
       ]
      },
      {
       "output_type": "stream",
       "stream": "stdout",
       "text": [
        "\n",
        "\n",
        "\n",
        "Internal FluidVec compression/distribution summary:\n",
        "\n",
        "    chunk_type    count    count_percentage    size      size_percentage\n",
        "--  ------------  -------  ------------------  --------  -----------------\n",
        "    C0L           117      1.52981             9.1 KB    0.00148885\n",
        "    CBS           478      6.25                1.3 MB    0.212289\n",
        "    C1N           478      6.25                10.0 MB   1.66064\n",
        "    C1S           839      10.9702             17.5 MB   2.92261\n",
        "    C2            2616     34.205              108.8 MB  18.1449\n",
        "    C2S           314      4.10565             12.9 MB   2.1574\n",
        "    C4            214      2.79812             17.9 MB   2.97809\n",
        "    C8            680      8.89121             113.5 MB  18.9267\n",
        "    C8D           1912     25                  317.7 MB  52.9958\n",
        "\n",
        "\n",
        "\n"
       ]
      }
     ],
     "prompt_number": 5
    },
    {
     "cell_type": "code",
     "collapsed": false,
     "input": [
      "# Now do a monster Group-By.  Count bike starts per-station per-day.  Ends up\n",
      "# with about 340 stations times 400 days (140,000 rows).  This is what we want\n",
      "# to predict.\n",
      "group_by_cols = [\"Days\",\"start station name\"]\n",
      "aggregates = {\"bikes\": [\"count\", 0, \"all\"]}\n",
      "bpd = h2o.group_by(data, cols=group_by_cols, aggregates=aggregates)\n",
      "bpd.show()\n",
      "bpd.describe()\n",
      "bpd.dim()\n"
     ],
     "language": "python",
     "metadata": {},
     "outputs": [
      {
       "output_type": "stream",
       "stream": "stdout",
       "text": [
        "Displaying 10 row(s):\n",
        "  Row ID  Days       start station name    bikes\n",
        "--------  ---------  --------------------  -------\n",
        "       1  [15978.0]  [89.0]                [36.0]\n",
        "       2  [16234.0]  [87.0]                [15.0]\n",
        "       3  [16106.0]  [88.0]                [6.0]\n",
        "       4  [16088.0]  [27.0]                [55.0]\n",
        "       5  [15945.0]  [28.0]                [140.0]\n",
        "       6  [16251.0]  [82.0]                [79.0]\n",
        "       7  [15995.0]  [84.0]                [22.0]\n",
        "       8  [16123.0]  [83.0]                [6.0]\n",
        "       9  [16313.0]  [180.0]               [74.0]\n",
        "      10  [16249.0]  [181.0]               [197.0]\n",
        "\n",
        "Rows: 139261 Cols: 3\n",
        "               Days           start station name    bikes\n",
        "-------------  -------------  --------------------  -------------\n",
        "type           int            enum                  int\n",
        "mins           15887.0        0.0                   1.0\n",
        "mean           16099.9758008  169.640760873         74.7341035897\n",
        "maxs           16314.0        339.0                 680.0\n",
        "sigma          123.635133897  98.50295732           64.1243887565\n",
        "zero_count     0              428                   0\n",
        "missing_count  0              0                     0"
       ]
      },
      {
       "output_type": "stream",
       "stream": "stdout",
       "text": [
        "\n",
        "\n",
        "\n",
        "Internal FluidVec compression/distribution summary:\n",
        "\n",
        "    chunk_type    count    count_percentage    size      size_percentage\n",
        "--  ------------  -------  ------------------  --------  -----------------\n",
        "    C2            48       100                 819.2 KB  100\n",
        "\n",
        "\n",
        "\n"
       ]
      },
      {
       "metadata": {},
       "output_type": "pyout",
       "prompt_number": 6,
       "text": [
        "[139261, 3]"
       ]
      }
     ],
     "prompt_number": 6
    },
    {
     "cell_type": "code",
     "collapsed": false,
     "input": [
      "# Quantiles: the data is fairly unbalanced; some station/day combos are wildly\n",
      "# more popular than others.\n",
      "print \"Quantiles of bikes-per-day\"\n",
      "bpd[\"bikes\"].quantile().show()\n"
     ],
     "language": "python",
     "metadata": {
      "scrolled": true
     },
     "outputs": [
      {
       "output_type": "stream",
       "stream": "stdout",
       "text": [
        "Quantiles of bikes-per-day\n",
        "Displaying 9 row(s):"
       ]
      },
      {
       "output_type": "stream",
       "stream": "stdout",
       "text": [
        "\n",
        "  Row ID  Probs    bikesQuantiles\n",
        "--------  -------  ----------------\n",
        "       1  [0.01]   [2.0]\n",
        "       2  [0.1]    [11.0]\n",
        "       3  [0.25]   [26.0]\n",
        "       4  [0.333]  [35.0]\n",
        "       5  [0.5]    [58.0]\n",
        "       6  [0.667]  [89.0]\n",
        "       7  [0.75]   [107.0]\n",
        "       8  [0.9]    [157.0]\n",
        "       9  [0.99]   [291.0]\n",
        "\n"
       ]
      }
     ],
     "prompt_number": 7
    },
    {
     "cell_type": "code",
     "collapsed": false,
     "input": [
      "# A little feature engineering\n",
      "# Add in month-of-year (seasonality; fewer bike rides in winter than summer)\n",
      "secs = bpd[\"Days\"]*secsPerDay\n",
      "bpd[\"Month\"]     = secs.month().asfactor()\n",
      "# Add in day-of-week (work-week; more bike rides on Sunday than Monday)\n",
      "bpd[\"DayOfWeek\"] = secs.dayOfWeek()\n",
      "print \"Bikes-Per-Day\"\n",
      "bpd.describe()\n"
     ],
     "language": "python",
     "metadata": {},
     "outputs": [
      {
       "output_type": "stream",
       "stream": "stdout",
       "text": [
        "Bikes-Per-Day\n",
        "Rows: 139261 Cols: 5\n",
        "               Days           start station name    bikes          Month          DayOfWeek\n",
        "-------------  -------------  --------------------  -------------  -------------  -------------\n",
        "type           int            enum                  int            enum           enum\n",
        "mins           15887.0        0.0                   1.0            0.0            0.0\n",
        "mean           16099.9758008  169.640760873         74.7341035897  5.68177738204  3.0059384896\n",
        "maxs           16314.0        339.0                 680.0          11.0           6.0\n",
        "sigma          123.635133897  98.50295732           64.1243887565  3.20373100216  2.00302100015\n",
        "zero_count     0              428                   0              9949           19880\n",
        "missing_count  0              0                     0              0              0"
       ]
      },
      {
       "output_type": "stream",
       "stream": "stdout",
       "text": [
        "\n",
        "\n",
        "\n",
        "Internal FluidVec compression/distribution summary:\n",
        "\n",
        "    chunk_type    count    count_percentage    size      size_percentage\n",
        "--  ------------  -------  ------------------  --------  -----------------\n",
        "    C1N           32       40                  274.1 KB  25.0729\n",
        "    C2            48       60                  819.2 KB  74.9271\n",
        "\n",
        "\n",
        "\n"
       ]
      }
     ],
     "prompt_number": 8
    },
    {
     "cell_type": "code",
     "collapsed": false,
     "input": [
      "# ----------\n",
      "# 3- Fit a model on train; using test as validation\n",
      "\n",
      "# Function for doing class test/train/holdout split\n",
      "def split_fit_predict(data):\n",
      "  global gbm0,drf0,glm0\n",
      "  # Classic Test/Train split\n",
      "  r = data['Days'].runif()   # Random UNIForm numbers, one per row\n",
      "  train = data[  r  < 0.6]\n",
      "  test  = data[(0.6 <= r) & (r < 0.9)]\n",
      "  hold  = data[ 0.9 <= r ]\n",
      "  print \"Training data has\",train.ncol(),\"columns and\",train.nrow(),\"rows, test has\",test.nrow(),\"rows, holdout has\",hold.nrow()\n",
      "  \n",
      "  # Run GBM\n",
      "  gbm0 = h2o.gbm(x           =train.drop(\"bikes\"),\n",
      "                 y           =train     [\"bikes\"],\n",
      "                 validation_x=test .drop(\"bikes\"),\n",
      "                 validation_y=test      [\"bikes\"],\n",
      "                 ntrees=500, # 500 works well\n",
      "                 max_depth=6,\n",
      "                 learn_rate=0.1)\n",
      "\n",
      "  # Run DRF\n",
      "  drf0 = h2o.random_forest(x =train.drop(\"bikes\"),\n",
      "                y           =train     [\"bikes\"],\n",
      "                validation_x=test .drop(\"bikes\"),\n",
      "                validation_y=test      [\"bikes\"],\n",
      "                ntrees=250,\n",
      "                max_depth=30)\n",
      "\n",
      "  # Run GLM\n",
      "  glm0 = h2o.glm(x           =train.drop(\"bikes\"),\n",
      "                 y           =train     [\"bikes\"],\n",
      "                 validation_x=test .drop(\"bikes\"),\n",
      "                 validation_y=test      [\"bikes\"],\n",
      "                 drop_na20_cols=True,\n",
      "                 Lambda=[1e-5],\n",
      "                 family=\"poisson\")\n",
      "  \n",
      "  \n",
      "  # ----------\n",
      "  # 4- Score on holdout set & report\n",
      "  train_r2_gbm = gbm0.model_performance(train).r2()\n",
      "  test_r2_gbm  = gbm0.model_performance(test ).r2()\n",
      "  hold_r2_gbm  = gbm0.model_performance(hold ).r2()\n",
      "  print \"GBM R2 TRAIN=\",train_r2_gbm,\", R2 TEST=\",test_r2_gbm,\", R2 HOLDOUT=\",hold_r2_gbm\n",
      "  \n",
      "  train_r2_drf = drf0.model_performance(train).r2()\n",
      "  test_r2_drf  = drf0.model_performance(test ).r2()\n",
      "  hold_r2_drf  = drf0.model_performance(hold ).r2()\n",
      "  print \"DRF R2 TRAIN=\",train_r2_drf,\", R2 TEST=\",test_r2_drf,\", R2 HOLDOUT=\",hold_r2_drf\n",
      "  \n",
      "  train_r2_glm = glm0.model_performance(train).r2()\n",
      "  test_r2_glm  = glm0.model_performance(test ).r2()\n",
      "  hold_r2_glm  = glm0.model_performance(hold ).r2()\n",
      "  print \"GLM R2 TRAIN=\",train_r2_glm,\", R2 TEST=\",test_r2_glm,\", R2 HOLDOUT=\",hold_r2_glm\n",
      "  # --------------\n"
     ],
     "language": "python",
     "metadata": {},
     "outputs": [],
     "prompt_number": 9
    },
    {
     "cell_type": "code",
     "collapsed": false,
     "input": [
      "# Split the data (into test & train), fit some models and predict on the holdout data\n",
      "split_fit_predict(bpd)\n",
      "# Here we see an r^2 of 0.91 for GBM, and 0.71 for GLM.  This means given just\n",
      "# the station, the month, and the day-of-week we can predict 90% of the\n",
      "# variance of the bike-trip-starts.\n"
     ],
     "language": "python",
     "metadata": {},
     "outputs": [
      {
       "output_type": "stream",
       "stream": "stdout",
       "text": [
        "Training data has 5 columns and 83197 rows, test has 42104 rows, holdout has 13960\n",
        "\n"
       ]
      },
      {
       "output_type": "stream",
       "stream": "stdout",
       "text": [
        "\r",
        "gbm Model Build Progress: [                                                  ] 00%"
       ]
      },
      {
       "output_type": "stream",
       "stream": "stdout",
       "text": [
        "\r",
        "gbm Model Build Progress: [                                                  ] 00%"
       ]
      },
      {
       "output_type": "stream",
       "stream": "stdout",
       "text": [
        "\r",
        "gbm Model Build Progress: [                                                  ] 00%"
       ]
      },
      {
       "output_type": "stream",
       "stream": "stdout",
       "text": [
        "\r",
        "gbm Model Build Progress: [                                                  ] 00%"
       ]
      },
      {
       "output_type": "stream",
       "stream": "stdout",
       "text": [
        "\r",
        "gbm Model Build Progress: [                                                  ] 00%"
       ]
      },
      {
       "output_type": "stream",
       "stream": "stdout",
       "text": [
        "\r",
        "gbm Model Build Progress: [                                                  ] 01%"
       ]
      },
      {
       "output_type": "stream",
       "stream": "stdout",
       "text": [
        "\r",
        "gbm Model Build Progress: [                                                  ] 01%"
       ]
      },
      {
       "output_type": "stream",
       "stream": "stdout",
       "text": [
        "\r",
        "gbm Model Build Progress: [#                                                 ] 02%"
       ]
      },
      {
       "output_type": "stream",
       "stream": "stdout",
       "text": [
        "\r",
        "gbm Model Build Progress: [#                                                 ] 02%"
       ]
      },
      {
       "output_type": "stream",
       "stream": "stdout",
       "text": [
        "\r",
        "gbm Model Build Progress: [##                                                ] 04%"
       ]
      },
      {
       "output_type": "stream",
       "stream": "stdout",
       "text": [
        "\r",
        "gbm Model Build Progress: [####                                              ] 08%"
       ]
      },
      {
       "output_type": "stream",
       "stream": "stdout",
       "text": [
        "\r",
        "gbm Model Build Progress: [######                                            ] 13%"
       ]
      },
      {
       "output_type": "stream",
       "stream": "stdout",
       "text": [
        "\r",
        "gbm Model Build Progress: [#########                                         ] 19%"
       ]
      },
      {
       "output_type": "stream",
       "stream": "stdout",
       "text": [
        "\r",
        "gbm Model Build Progress: [#########                                         ] 19%"
       ]
      },
      {
       "output_type": "stream",
       "stream": "stdout",
       "text": [
        "\r",
        "gbm Model Build Progress: [#########                                         ] 19%"
       ]
      },
      {
       "output_type": "stream",
       "stream": "stdout",
       "text": [
        "\r",
        "gbm Model Build Progress: [############                                      ] 24%"
       ]
      },
      {
       "output_type": "stream",
       "stream": "stdout",
       "text": [
        "\r",
        "gbm Model Build Progress: [###############                                   ] 30%"
       ]
      },
      {
       "output_type": "stream",
       "stream": "stdout",
       "text": [
        "\r",
        "gbm Model Build Progress: [#################                                 ] 35%"
       ]
      },
      {
       "output_type": "stream",
       "stream": "stdout",
       "text": [
        "\r",
        "gbm Model Build Progress: [####################                              ] 40%"
       ]
      },
      {
       "output_type": "stream",
       "stream": "stdout",
       "text": [
        "\r",
        "gbm Model Build Progress: [######################                            ] 44%"
       ]
      },
      {
       "output_type": "stream",
       "stream": "stdout",
       "text": [
        "\r",
        "gbm Model Build Progress: [########################                          ] 49%"
       ]
      },
      {
       "output_type": "stream",
       "stream": "stdout",
       "text": [
        "\r",
        "gbm Model Build Progress: [##########################                        ] 53%"
       ]
      },
      {
       "output_type": "stream",
       "stream": "stdout",
       "text": [
        "\r",
        "gbm Model Build Progress: [############################                      ] 56%"
       ]
      },
      {
       "output_type": "stream",
       "stream": "stdout",
       "text": [
        "\r",
        "gbm Model Build Progress: [##############################                    ] 61%"
       ]
      },
      {
       "output_type": "stream",
       "stream": "stdout",
       "text": [
        "\r",
        "gbm Model Build Progress: [#################################                 ] 66%"
       ]
      },
      {
       "output_type": "stream",
       "stream": "stdout",
       "text": [
        "\r",
        "gbm Model Build Progress: [###################################               ] 71%"
       ]
      },
      {
       "output_type": "stream",
       "stream": "stdout",
       "text": [
        "\r",
        "gbm Model Build Progress: [######################################            ] 76%"
       ]
      },
      {
       "output_type": "stream",
       "stream": "stdout",
       "text": [
        "\r",
        "gbm Model Build Progress: [########################################          ] 81%"
       ]
      },
      {
       "output_type": "stream",
       "stream": "stdout",
       "text": [
        "\r",
        "gbm Model Build Progress: [###########################################       ] 86%"
       ]
      },
      {
       "output_type": "stream",
       "stream": "stdout",
       "text": [
        "\r",
        "gbm Model Build Progress: [#############################################     ] 91%"
       ]
      },
      {
       "output_type": "stream",
       "stream": "stdout",
       "text": [
        "\r",
        "gbm Model Build Progress: [################################################  ] 96%"
       ]
      },
      {
       "output_type": "stream",
       "stream": "stdout",
       "text": [
        "\r",
        "gbm Model Build Progress: [##################################################] 100%"
       ]
      },
      {
       "output_type": "stream",
       "stream": "stdout",
       "text": [
        "\n",
        "\n"
       ]
      },
      {
       "output_type": "stream",
       "stream": "stdout",
       "text": [
        "\r",
        "drf Model Build Progress: [                                                  ] 00%"
       ]
      },
      {
       "output_type": "stream",
       "stream": "stdout",
       "text": [
        "\r",
        "drf Model Build Progress: [                                                  ] 00%"
       ]
      },
      {
       "output_type": "stream",
       "stream": "stdout",
       "text": [
        "\r",
        "drf Model Build Progress: [                                                  ] 00%"
       ]
      },
      {
       "output_type": "stream",
       "stream": "stdout",
       "text": [
        "\r",
        "drf Model Build Progress: [                                                  ] 00%"
       ]
      },
      {
       "output_type": "stream",
       "stream": "stdout",
       "text": [
        "\r",
        "drf Model Build Progress: [                                                  ] 01%"
       ]
      },
      {
       "output_type": "stream",
       "stream": "stdout",
       "text": [
        "\r",
        "drf Model Build Progress: [#                                                 ] 02%"
       ]
      },
      {
       "output_type": "stream",
       "stream": "stdout",
       "text": [
        "\r",
        "drf Model Build Progress: [#                                                 ] 02%"
       ]
      },
      {
       "output_type": "stream",
       "stream": "stdout",
       "text": [
        "\r",
        "drf Model Build Progress: [#                                                 ] 03%"
       ]
      },
      {
       "output_type": "stream",
       "stream": "stdout",
       "text": [
        "\r",
        "drf Model Build Progress: [##                                                ] 04%"
       ]
      },
      {
       "output_type": "stream",
       "stream": "stdout",
       "text": [
        "\r",
        "drf Model Build Progress: [###                                               ] 06%"
       ]
      },
      {
       "output_type": "stream",
       "stream": "stdout",
       "text": [
        "\r",
        "drf Model Build Progress: [####                                              ] 09%"
       ]
      },
      {
       "output_type": "stream",
       "stream": "stdout",
       "text": [
        "\r",
        "drf Model Build Progress: [######                                            ] 13%"
       ]
      },
      {
       "output_type": "stream",
       "stream": "stdout",
       "text": [
        "\r",
        "drf Model Build Progress: [########                                          ] 17%"
       ]
      },
      {
       "output_type": "stream",
       "stream": "stdout",
       "text": [
        "\r",
        "drf Model Build Progress: [########                                          ] 17%"
       ]
      },
      {
       "output_type": "stream",
       "stream": "stdout",
       "text": [
        "\r",
        "drf Model Build Progress: [#########                                         ] 19%"
       ]
      },
      {
       "output_type": "stream",
       "stream": "stdout",
       "text": [
        "\r",
        "drf Model Build Progress: [###########                                       ] 23%"
       ]
      },
      {
       "output_type": "stream",
       "stream": "stdout",
       "text": [
        "\r",
        "drf Model Build Progress: [##############                                    ] 28%"
       ]
      },
      {
       "output_type": "stream",
       "stream": "stdout",
       "text": [
        "\r",
        "drf Model Build Progress: [################                                  ] 32%"
       ]
      },
      {
       "output_type": "stream",
       "stream": "stdout",
       "text": [
        "\r",
        "drf Model Build Progress: [##################                                ] 36%"
       ]
      },
      {
       "output_type": "stream",
       "stream": "stdout",
       "text": [
        "\r",
        "drf Model Build Progress: [####################                              ] 40%"
       ]
      },
      {
       "output_type": "stream",
       "stream": "stdout",
       "text": [
        "\r",
        "drf Model Build Progress: [######################                            ] 44%"
       ]
      },
      {
       "output_type": "stream",
       "stream": "stdout",
       "text": [
        "\r",
        "drf Model Build Progress: [########################                          ] 49%"
       ]
      },
      {
       "output_type": "stream",
       "stream": "stdout",
       "text": [
        "\r",
        "drf Model Build Progress: [##########################                        ] 53%"
       ]
      },
      {
       "output_type": "stream",
       "stream": "stdout",
       "text": [
        "\r",
        "drf Model Build Progress: [############################                      ] 57%"
       ]
      },
      {
       "output_type": "stream",
       "stream": "stdout",
       "text": [
        "\r",
        "drf Model Build Progress: [###############################                   ] 62%"
       ]
      },
      {
       "output_type": "stream",
       "stream": "stdout",
       "text": [
        "\r",
        "drf Model Build Progress: [#################################                 ] 66%"
       ]
      },
      {
       "output_type": "stream",
       "stream": "stdout",
       "text": [
        "\r",
        "drf Model Build Progress: [###################################               ] 70%"
       ]
      },
      {
       "output_type": "stream",
       "stream": "stdout",
       "text": [
        "\r",
        "drf Model Build Progress: [####################################              ] 72%"
       ]
      },
      {
       "output_type": "stream",
       "stream": "stdout",
       "text": [
        "\r",
        "drf Model Build Progress: [####################################              ] 72%"
       ]
      },
      {
       "output_type": "stream",
       "stream": "stdout",
       "text": [
        "\r",
        "drf Model Build Progress: [####################################              ] 72%"
       ]
      },
      {
       "output_type": "stream",
       "stream": "stdout",
       "text": [
        "\r",
        "drf Model Build Progress: [####################################              ] 72%"
       ]
      },
      {
       "output_type": "stream",
       "stream": "stdout",
       "text": [
        "\r",
        "drf Model Build Progress: [####################################              ] 72%"
       ]
      },
      {
       "output_type": "stream",
       "stream": "stdout",
       "text": [
        "\r",
        "drf Model Build Progress: [####################################              ] 72%"
       ]
      },
      {
       "output_type": "stream",
       "stream": "stdout",
       "text": [
        "\r",
        "drf Model Build Progress: [#####################################             ] 74%"
       ]
      },
      {
       "output_type": "stream",
       "stream": "stdout",
       "text": [
        "\r",
        "drf Model Build Progress: [#######################################           ] 78%"
       ]
      },
      {
       "output_type": "stream",
       "stream": "stdout",
       "text": [
        "\r",
        "drf Model Build Progress: [#########################################         ] 82%"
       ]
      },
      {
       "output_type": "stream",
       "stream": "stdout",
       "text": [
        "\r",
        "drf Model Build Progress: [###########################################       ] 86%"
       ]
      },
      {
       "output_type": "stream",
       "stream": "stdout",
       "text": [
        "\r",
        "drf Model Build Progress: [#############################################     ] 90%"
       ]
      },
      {
       "output_type": "stream",
       "stream": "stdout",
       "text": [
        "\r",
        "drf Model Build Progress: [###############################################   ] 94%"
       ]
      },
      {
       "output_type": "stream",
       "stream": "stdout",
       "text": [
        "\r",
        "drf Model Build Progress: [################################################# ] 98%"
       ]
      },
      {
       "output_type": "stream",
       "stream": "stdout",
       "text": [
        "\r",
        "drf Model Build Progress: [##################################################] 100%"
       ]
      },
      {
       "output_type": "stream",
       "stream": "stdout",
       "text": [
        "\n",
        "\n"
       ]
      },
      {
       "output_type": "stream",
       "stream": "stdout",
       "text": [
        "\r",
        "glm Model Build Progress: [                                                  ] 00%"
       ]
      },
      {
       "output_type": "stream",
       "stream": "stdout",
       "text": [
        "\r",
        "glm Model Build Progress: [                                                  ] 00%"
       ]
      },
      {
       "output_type": "stream",
       "stream": "stdout",
       "text": [
        "\r",
        "glm Model Build Progress: [###                                               ] 06%"
       ]
      },
      {
       "output_type": "stream",
       "stream": "stdout",
       "text": [
        "\r",
        "glm Model Build Progress: [##################################################] 100%"
       ]
      },
      {
       "output_type": "stream",
       "stream": "stdout",
       "text": [
        "\n",
        "GBM R2 TRAIN="
       ]
      },
      {
       "output_type": "stream",
       "stream": "stdout",
       "text": [
        " 0.967836737729 , R2 TEST= 0.921967063997 , R2 HOLDOUT= 0.920038200017\n",
        "DRF R2 TRAIN="
       ]
      },
      {
       "output_type": "stream",
       "stream": "stdout",
       "text": [
        " 0.848239308889 , R2 TEST= 0.826795043197 , R2 HOLDOUT= 0.82210945298\n",
        "GLM R2 TRAIN="
       ]
      },
      {
       "output_type": "stream",
       "stream": "stdout",
       "text": [
        " 0.783767776319 , R2 TEST= 0.785782507668 , R2 HOLDOUT= 0.784522903329\n"
       ]
      }
     ],
     "prompt_number": 10
    },
    {
     "cell_type": "code",
     "collapsed": false,
     "input": [
      "# ----------\n",
      "# 5- Now lets add some weather\n",
      "# Load weather data\n",
      "wthr1 = h2o.import_frame(path=[mylocate(\"bigdata/laptop/citibike-nyc/31081_New_York_City__Hourly_2013.csv\"),\n",
      "                               mylocate(\"bigdata/laptop/citibike-nyc/31081_New_York_City__Hourly_2014.csv\")])\n",
      "# Peek at the data\n",
      "wthr1.describe()\n",
      "\n"
     ],
     "language": "python",
     "metadata": {},
     "outputs": []
    },
    {
     "cell_type": "code",
     "collapsed": false,
     "input": [
      "# Lots of columns in there!  Lets plan on converting to time-since-epoch to do\n",
      "# a 'join' with the bike data, plus gather weather info that might affect\n",
      "# cyclists - rain, snow, temperature.  Alas, drop the \"snow\" column since it's\n",
      "# all NA's.  Also add in dew point and humidity just in case.  Slice out just\n",
      "# the columns of interest and drop the rest.\n",
      "wthr2 = wthr1[\"Year Local\",\"Month Local\",\"Day Local\",\"Hour Local\",\"Dew Point (C)\",\"Humidity Fraction\",\"Precipitation One Hour (mm)\",\"Temperature (C)\",\"Weather Code 1/ Description\"]\n",
      "wthr2[\"Precipitation One Hour (mm)\"]._name = \"Rain (mm)\" # Shorter column name\n",
      "wthr2[\"Weather Code 1/ Description\"]._name = \"WC1\" # Shorter column name\n",
      "wthr2.describe()\n",
      "# Much better!  \n"
     ],
     "language": "python",
     "metadata": {},
     "outputs": []
    },
    {
     "cell_type": "code",
     "collapsed": false,
     "input": [
      "# Filter down to the weather at Noon\n",
      "wthr3 = wthr2[ wthr2[\"Hour Local\"]==12 ]\n"
     ],
     "language": "python",
     "metadata": {},
     "outputs": []
    },
    {
     "cell_type": "code",
     "collapsed": false,
     "input": [
      "# Lets now get Days since the epoch... we'll convert year/month/day into Epoch\n",
      "# time, and then back to Epoch days.  Need zero-based month and days, but have\n",
      "# 1-based.\n",
      "wthr3[\"msec\"] = h2o.H2OVec.mktime(year=wthr3[\"Year Local\"], month=wthr3[\"Month Local\"]-1, day=wthr3[\"Day Local\"]-1, hour=wthr3[\"Hour Local\"])\n",
      "secsPerDay=1000*60*60*24\n",
      "wthr3[\"Days\"] = (wthr3[\"msec\"]/secsPerDay).floor()\n",
      "wthr3.describe()\n",
      "# msec looks sane (numbers like 1.3e12 are in the correct range for msec since\n",
      "# 1970).  Epoch Days matches closely with the epoch day numbers from the\n",
      "# CitiBike dataset.  \n"
     ],
     "language": "python",
     "metadata": {},
     "outputs": []
    },
    {
     "cell_type": "code",
     "collapsed": false,
     "input": [
      "\n",
      "# Lets drop off the extra time columns to make a easy-to-handle dataset.\n",
      "wthr4 = wthr3.drop(\"Year Local\").drop(\"Month Local\").drop(\"Day Local\").drop(\"Hour Local\").drop(\"msec\")\n"
     ],
     "language": "python",
     "metadata": {},
     "outputs": []
    },
    {
     "cell_type": "code",
     "collapsed": false,
     "input": [
      "# Also, most rain numbers are missing - lets assume those are zero rain days\n",
      "rain = wthr4[\"Rain (mm)\"]\n",
      "rain[rain == None ] = 0\n"
     ],
     "language": "python",
     "metadata": {},
     "outputs": []
    },
    {
     "cell_type": "code",
     "collapsed": false,
     "input": [
      "# ----------\n",
      "# 6 - Join the weather data-per-day to the bike-starts-per-day\n",
      "print \"Merge Daily Weather with Bikes-Per-Day\"\n",
      "bpd_with_weather = bpd.merge(wthr4,allLeft=True,allRite=False)\n",
      "bpd_with_weather.describe()\n",
      "bpd_with_weather.show()\n"
     ],
     "language": "python",
     "metadata": {},
     "outputs": []
    },
    {
     "cell_type": "code",
     "collapsed": false,
     "input": [
      "# 7 - Test/Train split again, model build again, this time with weather\n",
      "split_fit_predict(bpd_with_weather)\n"
     ],
     "language": "python",
     "metadata": {},
     "outputs": []
    }
   ],
   "metadata": {}
  }
 ]
}