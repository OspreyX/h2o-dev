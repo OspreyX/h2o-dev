{
 "metadata": {
  "name": "",
  "signature": "sha256:badd7a9cb2668227fb2326ce4515351773ca64ef5530671f78ce5e5706bbcfd5"
 },
 "nbformat": 3,
 "nbformat_minor": 0,
 "worksheets": [
  {
   "cells": [
    {
     "cell_type": "code",
     "collapsed": false,
     "input": [
      "#----------------------------------------------------------------------\n",
      "# Try to slice by using != factor_level\n",
      "#----------------------------------------------------------------------"
     ],
     "language": "python",
     "metadata": {},
     "outputs": [],
     "prompt_number": 1
    },
    {
     "cell_type": "code",
     "collapsed": false,
     "input": [
      "import h2o"
     ],
     "language": "python",
     "metadata": {},
     "outputs": [],
     "prompt_number": 2
    },
    {
     "cell_type": "code",
     "collapsed": false,
     "input": [
      "h2o.init()"
     ],
     "language": "python",
     "metadata": {},
     "outputs": [
      {
       "output_type": "stream",
       "stream": "stdout",
       "text": [
        "\n",
        "--------------------------  -------------------------------------\n",
        "H2O cluster uptime:         5 minutes 13 seconds 406 milliseconds\n",
        "H2O cluster version:        0.3.0.99999\n",
        "H2O cluster name:           ece\n",
        "H2O cluster total nodes:    1\n",
        "H2O cluster total memory:   3.56 GB\n",
        "H2O cluster total cores:    8\n",
        "H2O cluster allowed cores:  8\n",
        "H2O cluster healthy:        True\n",
        "--------------------------  -------------------------------------\n",
        "\n"
       ]
      }
     ],
     "prompt_number": 3
    },
    {
     "cell_type": "code",
     "collapsed": false,
     "input": [
      "air = h2o.import_frame(path=h2o.locate(\"smalldata/airlines/allyears2k_headers.zip\"))"
     ],
     "language": "python",
     "metadata": {},
     "outputs": [
      {
       "output_type": "stream",
       "stream": "stdout",
       "text": [
        "\n",
        "\r",
        "Parse Progress: [                                                  ] 00%"
       ]
      },
      {
       "output_type": "stream",
       "stream": "stdout",
       "text": [
        "\r",
        "Parse Progress: [##################################################] 100%"
       ]
      },
      {
       "output_type": "stream",
       "stream": "stdout",
       "text": [
        "\n",
        "Veckeys [{u'URL': None, u'type': u'Key<Vec>', u'name': u'$04ffa0010000ffffffff$nfs://Users/ece/0xdata/h2o-dev/smalldata/airlines/allyears2k_headers.zip', u'__meta': {u'schema_name': u'VecKeyV3', u'schema_version': 3, u'schema_type': u'Key<Vec>'}}, {u'URL': None, u'type': u'Key<Vec>', u'name': u'$04ffa1010000ffffffff$nfs://Users/ece/0xdata/h2o-dev/smalldata/airlines/allyears2k_headers.zip', u'__meta': {u'schema_name': u'VecKeyV3', u'schema_version': 3, u'schema_type': u'Key<Vec>'}}, {u'URL': None, u'type': u'Key<Vec>', u'name': u'$04ffa2010000ffffffff$nfs://Users/ece/0xdata/h2o-dev/smalldata/airlines/allyears2k_headers.zip', u'__meta': {u'schema_name': u'VecKeyV3', u'schema_version': 3, u'schema_type': u'Key<Vec>'}}, {u'URL': None, u'type': u'Key<Vec>', u'name': u'$04ffa3010000ffffffff$nfs://Users/ece/0xdata/h2o-dev/smalldata/airlines/allyears2k_headers.zip', u'__meta': {u'schema_name': u'VecKeyV3', u'schema_version': 3, u'schema_type': u'Key<Vec>'}}, {u'URL': None, u'type': u'Key<Vec>', u'name': u'$04ffa4010000ffffffff$nfs://Users/ece/0xdata/h2o-dev/smalldata/airlines/allyears2k_headers.zip', u'__meta': {u'schema_name': u'VecKeyV3', u'schema_version': 3, u'schema_type': u'Key<Vec>'}}, {u'URL': None, u'type': u'Key<Vec>', u'name': u'$04ffa5010000ffffffff$nfs://Users/ece/0xdata/h2o-dev/smalldata/airlines/allyears2k_headers.zip', u'__meta': {u'schema_name': u'VecKeyV3', u'schema_version': 3, u'schema_type': u'Key<Vec>'}}, {u'URL': None, u'type': u'Key<Vec>', u'name': u'$04ffa6010000ffffffff$nfs://Users/ece/0xdata/h2o-dev/smalldata/airlines/allyears2k_headers.zip', u'__meta': {u'schema_name': u'VecKeyV3', u'schema_version': 3, u'schema_type': u'Key<Vec>'}}, {u'URL': None, u'type': u'Key<Vec>', u'name': u'$04ffa7010000ffffffff$nfs://Users/ece/0xdata/h2o-dev/smalldata/airlines/allyears2k_headers.zip', u'__meta': {u'schema_name': u'VecKeyV3', u'schema_version': 3, u'schema_type': u'Key<Vec>'}}, {u'URL': None, u'type': u'Key<Vec>', u'name': u'$04ffa8010000ffffffff$nfs://Users/ece/0xdata/h2o-dev/smalldata/airlines/allyears2k_headers.zip', u'__meta': {u'schema_name': u'VecKeyV3', u'schema_version': 3, u'schema_type': u'Key<Vec>'}}, {u'URL': None, u'type': u'Key<Vec>', u'name': u'$04ffa9010000ffffffff$nfs://Users/ece/0xdata/h2o-dev/smalldata/airlines/allyears2k_headers.zip', u'__meta': {u'schema_name': u'VecKeyV3', u'schema_version': 3, u'schema_type': u'Key<Vec>'}}, {u'URL': None, u'type': u'Key<Vec>', u'name': u'$04ffaa010000ffffffff$nfs://Users/ece/0xdata/h2o-dev/smalldata/airlines/allyears2k_headers.zip', u'__meta': {u'schema_name': u'VecKeyV3', u'schema_version': 3, u'schema_type': u'Key<Vec>'}}, {u'URL': None, u'type': u'Key<Vec>', u'name': u'$04ffab010000ffffffff$nfs://Users/ece/0xdata/h2o-dev/smalldata/airlines/allyears2k_headers.zip', u'__meta': {u'schema_name': u'VecKeyV3', u'schema_version': 3, u'schema_type': u'Key<Vec>'}}, {u'URL': None, u'type': u'Key<Vec>', u'name': u'$04ffac010000ffffffff$nfs://Users/ece/0xdata/h2o-dev/smalldata/airlines/allyears2k_headers.zip', u'__meta': {u'schema_name': u'VecKeyV3', u'schema_version': 3, u'schema_type': u'Key<Vec>'}}, {u'URL': None, u'type': u'Key<Vec>', u'name': u'$04ffad010000ffffffff$nfs://Users/ece/0xdata/h2o-dev/smalldata/airlines/allyears2k_headers.zip', u'__meta': {u'schema_name': u'VecKeyV3', u'schema_version': 3, u'schema_type': u'Key<Vec>'}}, {u'URL': None, u'type': u'Key<Vec>', u'name': u'$04ffae010000ffffffff$nfs://Users/ece/0xdata/h2o-dev/smalldata/airlines/allyears2k_headers.zip', u'__meta': {u'schema_name': u'VecKeyV3', u'schema_version': 3, u'schema_type': u'Key<Vec>'}}, {u'URL': None, u'type': u'Key<Vec>', u'name': u'$04ffaf010000ffffffff$nfs://Users/ece/0xdata/h2o-dev/smalldata/airlines/allyears2k_headers.zip', u'__meta': {u'schema_name': u'VecKeyV3', u'schema_version': 3, u'schema_type': u'Key<Vec>'}}, {u'URL': None, u'type': u'Key<Vec>', u'name': u'$04ffb0010000ffffffff$nfs://Users/ece/0xdata/h2o-dev/smalldata/airlines/allyears2k_headers.zip', u'__meta': {u'schema_name': u'VecKeyV3', u'schema_version': 3, u'schema_type': u'Key<Vec>'}}, {u'URL': None, u'type': u'Key<Vec>', u'name': u'$04ffb1010000ffffffff$nfs://Users/ece/0xdata/h2o-dev/smalldata/airlines/allyears2k_headers.zip', u'__meta': {u'schema_name': u'VecKeyV3', u'schema_version': 3, u'schema_type': u'Key<Vec>'}}, {u'URL': None, u'type': u'Key<Vec>', u'name': u'$04ffb2010000ffffffff$nfs://Users/ece/0xdata/h2o-dev/smalldata/airlines/allyears2k_headers.zip', u'__meta': {u'schema_name': u'VecKeyV3', u'schema_version': 3, u'schema_type': u'Key<Vec>'}}, {u'URL': None, u'type': u'Key<Vec>', u'name': u'$04ffb3010000ffffffff$nfs://Users/ece/0xdata/h2o-dev/smalldata/airlines/allyears2k_headers.zip', u'__meta': {u'schema_name': u'VecKeyV3', u'schema_version': 3, u'schema_type': u'Key<Vec>'}}, {u'URL': None, u'type': u'Key<Vec>', u'name': u'$04ffb4010000ffffffff$nfs://Users/ece/0xdata/h2o-dev/smalldata/airlines/allyears2k_headers.zip', u'__meta': {u'schema_name': u'VecKeyV3', u'schema_version': 3, u'schema_type': u'Key<Vec>'}}, {u'URL': None, u'type': u'Key<Vec>', u'name': u'$04ffb5010000ffffffff$nfs://Users/ece/0xdata/h2o-dev/smalldata/airlines/allyears2k_headers.zip', u'__meta': {u'schema_name': u'VecKeyV3', u'schema_version': 3, u'schema_type': u'Key<Vec>'}}, {u'URL': None, u'type': u'Key<Vec>', u'name': u'$04ffb6010000ffffffff$nfs://Users/ece/0xdata/h2o-dev/smalldata/airlines/allyears2k_headers.zip', u'__meta': {u'schema_name': u'VecKeyV3', u'schema_version': 3, u'schema_type': u'Key<Vec>'}}, {u'URL': None, u'type': u'Key<Vec>', u'name': u'$04ffb7010000ffffffff$nfs://Users/ece/0xdata/h2o-dev/smalldata/airlines/allyears2k_headers.zip', u'__meta': {u'schema_name': u'VecKeyV3', u'schema_version': 3, u'schema_type': u'Key<Vec>'}}, {u'URL': None, u'type': u'Key<Vec>', u'name': u'$04ffb8010000ffffffff$nfs://Users/ece/0xdata/h2o-dev/smalldata/airlines/allyears2k_headers.zip', u'__meta': {u'schema_name': u'VecKeyV3', u'schema_version': 3, u'schema_type': u'Key<Vec>'}}, {u'URL': None, u'type': u'Key<Vec>', u'name': u'$04ffb9010000ffffffff$nfs://Users/ece/0xdata/h2o-dev/smalldata/airlines/allyears2k_headers.zip', u'__meta': {u'schema_name': u'VecKeyV3', u'schema_version': 3, u'schema_type': u'Key<Vec>'}}, {u'URL': None, u'type': u'Key<Vec>', u'name': u'$04ffba010000ffffffff$nfs://Users/ece/0xdata/h2o-dev/smalldata/airlines/allyears2k_headers.zip', u'__meta': {u'schema_name': u'VecKeyV3', u'schema_version': 3, u'schema_type': u'Key<Vec>'}}, {u'URL': None, u'type': u'Key<Vec>', u'name': u'$04ffbb010000ffffffff$nfs://Users/ece/0xdata/h2o-dev/smalldata/airlines/allyears2k_headers.zip', u'__meta': {u'schema_name': u'VecKeyV3', u'schema_version': 3, u'schema_type': u'Key<Vec>'}}, {u'URL': None, u'type': u'Key<Vec>', u'name': u'$04ffbc010000ffffffff$nfs://Users/ece/0xdata/h2o-dev/smalldata/airlines/allyears2k_headers.zip', u'__meta': {u'schema_name': u'VecKeyV3', u'schema_version': 3, u'schema_type': u'Key<Vec>'}}, {u'URL': None, u'type': u'Key<Vec>', u'name': u'$04ffbd010000ffffffff$nfs://Users/ece/0xdata/h2o-dev/smalldata/airlines/allyears2k_headers.zip', u'__meta': {u'schema_name': u'VecKeyV3', u'schema_version': 3, u'schema_type': u'Key<Vec>'}}, {u'URL': None, u'type': u'Key<Vec>', u'name': u'$04ffbe010000ffffffff$nfs://Users/ece/0xdata/h2o-dev/smalldata/airlines/allyears2k_headers.zip', u'__meta': {u'schema_name': u'VecKeyV3', u'schema_version': 3, u'schema_type': u'Key<Vec>'}}]\n",
        "Imported /Users/ece/0xdata/h2o-dev/smalldata/airlines/allyears2k_headers.zip into cluster with 43978 rows and 31 cols\n"
       ]
      }
     ],
     "prompt_number": 4
    },
    {
     "cell_type": "code",
     "collapsed": false,
     "input": [
      "rows, cols = air.dim()\n",
      "print [rows, cols]"
     ],
     "language": "python",
     "metadata": {},
     "outputs": [
      {
       "output_type": "stream",
       "stream": "stdout",
       "text": [
        "[43978, 31]\n"
       ]
      }
     ],
     "prompt_number": 5
    },
    {
     "cell_type": "code",
     "collapsed": false,
     "input": [
      "#\n",
      "# Select all flights not departing from SFO\n",
      "#\n",
      "not_sfo = air[air[\"Origin\"] != \"SFO\"]\n",
      "sfo = air[air[\"Origin\"] == \"SFO\"]\n",
      "no_rows, no_cols = not_sfo.dim()\n",
      "yes_rows, yes_cols = sfo.dim()\n",
      "print \"no_rows: {0}\".format(no_rows)\n",
      "print \"yes_rows: {0}\".format(yes_rows)\n",
      "print \"no_cols: {0}\".format(no_cols)\n",
      "print \"yes_cols: {0}\".format(yes_cols)"
     ],
     "language": "python",
     "metadata": {},
     "outputs": [
      {
       "output_type": "stream",
       "stream": "stdout",
       "text": [
        "no_rows: 42434\n",
        "yes_rows: 1544\n",
        "no_cols: 31\n",
        "yes_cols: 31\n"
       ]
      }
     ],
     "prompt_number": 6
    },
    {
     "cell_type": "code",
     "collapsed": false,
     "input": [],
     "language": "python",
     "metadata": {},
     "outputs": [],
     "prompt_number": 6
    }
   ],
   "metadata": {}
  }
 ]
}