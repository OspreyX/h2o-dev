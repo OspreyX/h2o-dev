{
 "metadata": {
  "name": "",
  "signature": "sha256:35f5954dfe8c19e0b7f282f7d3c19a1a01f3a134b64bb28291d0c793b16ade21"
 },
 "nbformat": 3,
 "nbformat_minor": 0,
 "worksheets": [
  {
   "cells": [
    {
     "cell_type": "code",
     "collapsed": false,
     "input": [
      "#----------------------------------------------------------------------\n",
      "# Purpose:  Condition an Airline dataset by filtering out NAs where the\n",
      "#           departure delay in the input dataset is unknown.\n",
      "#\n",
      "#           Then treat anything longer than minutesOfDelayWeTolerate\n",
      "#           as delayed.\n",
      "#----------------------------------------------------------------------"
     ],
     "language": "python",
     "metadata": {},
     "outputs": [],
     "prompt_number": 1
    },
    {
     "cell_type": "code",
     "collapsed": false,
     "input": [
      "import h2o"
     ],
     "language": "python",
     "metadata": {},
     "outputs": [],
     "prompt_number": 2
    },
    {
     "cell_type": "code",
     "collapsed": false,
     "input": [
      "h2o.init()"
     ],
     "language": "python",
     "metadata": {},
     "outputs": [
      {
       "output_type": "stream",
       "stream": "stdout",
       "text": [
        "\n",
        "--------------------------  -------------------------------------\n",
        "H2O cluster uptime:         5 minutes 53 seconds 316 milliseconds\n",
        "H2O cluster version:        0.3.0.99999\n",
        "H2O cluster name:           ece\n",
        "H2O cluster total nodes:    1\n",
        "H2O cluster total memory:   3.56 GB\n",
        "H2O cluster total cores:    8\n",
        "H2O cluster allowed cores:  8\n",
        "H2O cluster healthy:        True\n",
        "--------------------------  -------------------------------------\n",
        "\n"
       ]
      }
     ],
     "prompt_number": 3
    },
    {
     "cell_type": "code",
     "collapsed": false,
     "input": [
      "air = h2o.import_frame(h2o.locate(\"smalldata/airlines/allyears2k_headers.zip\"))"
     ],
     "language": "python",
     "metadata": {},
     "outputs": [
      {
       "output_type": "stream",
       "stream": "stdout",
       "text": [
        "\n",
        "\r",
        "Parse Progress: [                                                  ] 00%"
       ]
      },
      {
       "output_type": "stream",
       "stream": "stdout",
       "text": [
        "\r",
        "Parse Progress: [##################################################] 100%"
       ]
      },
      {
       "output_type": "stream",
       "stream": "stdout",
       "text": [
        "\n",
        "Veckeys [{u'URL': None, u'type': u'Key<Vec>', u'name': u'$04ffc4000000ffffffff$nfs://Users/ece/0xdata/h2o-dev/smalldata/airlines/allyears2k_headers.zip', u'__meta': {u'schema_name': u'VecKeyV3', u'schema_version': 3, u'schema_type': u'Key<Vec>'}}, {u'URL': None, u'type': u'Key<Vec>', u'name': u'$04ffc5000000ffffffff$nfs://Users/ece/0xdata/h2o-dev/smalldata/airlines/allyears2k_headers.zip', u'__meta': {u'schema_name': u'VecKeyV3', u'schema_version': 3, u'schema_type': u'Key<Vec>'}}, {u'URL': None, u'type': u'Key<Vec>', u'name': u'$04ffc6000000ffffffff$nfs://Users/ece/0xdata/h2o-dev/smalldata/airlines/allyears2k_headers.zip', u'__meta': {u'schema_name': u'VecKeyV3', u'schema_version': 3, u'schema_type': u'Key<Vec>'}}, {u'URL': None, u'type': u'Key<Vec>', u'name': u'$04ffc7000000ffffffff$nfs://Users/ece/0xdata/h2o-dev/smalldata/airlines/allyears2k_headers.zip', u'__meta': {u'schema_name': u'VecKeyV3', u'schema_version': 3, u'schema_type': u'Key<Vec>'}}, {u'URL': None, u'type': u'Key<Vec>', u'name': u'$04ffc8000000ffffffff$nfs://Users/ece/0xdata/h2o-dev/smalldata/airlines/allyears2k_headers.zip', u'__meta': {u'schema_name': u'VecKeyV3', u'schema_version': 3, u'schema_type': u'Key<Vec>'}}, {u'URL': None, u'type': u'Key<Vec>', u'name': u'$04ffc9000000ffffffff$nfs://Users/ece/0xdata/h2o-dev/smalldata/airlines/allyears2k_headers.zip', u'__meta': {u'schema_name': u'VecKeyV3', u'schema_version': 3, u'schema_type': u'Key<Vec>'}}, {u'URL': None, u'type': u'Key<Vec>', u'name': u'$04ffca000000ffffffff$nfs://Users/ece/0xdata/h2o-dev/smalldata/airlines/allyears2k_headers.zip', u'__meta': {u'schema_name': u'VecKeyV3', u'schema_version': 3, u'schema_type': u'Key<Vec>'}}, {u'URL': None, u'type': u'Key<Vec>', u'name': u'$04ffcb000000ffffffff$nfs://Users/ece/0xdata/h2o-dev/smalldata/airlines/allyears2k_headers.zip', u'__meta': {u'schema_name': u'VecKeyV3', u'schema_version': 3, u'schema_type': u'Key<Vec>'}}, {u'URL': None, u'type': u'Key<Vec>', u'name': u'$04ffcc000000ffffffff$nfs://Users/ece/0xdata/h2o-dev/smalldata/airlines/allyears2k_headers.zip', u'__meta': {u'schema_name': u'VecKeyV3', u'schema_version': 3, u'schema_type': u'Key<Vec>'}}, {u'URL': None, u'type': u'Key<Vec>', u'name': u'$04ffcd000000ffffffff$nfs://Users/ece/0xdata/h2o-dev/smalldata/airlines/allyears2k_headers.zip', u'__meta': {u'schema_name': u'VecKeyV3', u'schema_version': 3, u'schema_type': u'Key<Vec>'}}, {u'URL': None, u'type': u'Key<Vec>', u'name': u'$04ffce000000ffffffff$nfs://Users/ece/0xdata/h2o-dev/smalldata/airlines/allyears2k_headers.zip', u'__meta': {u'schema_name': u'VecKeyV3', u'schema_version': 3, u'schema_type': u'Key<Vec>'}}, {u'URL': None, u'type': u'Key<Vec>', u'name': u'$04ffcf000000ffffffff$nfs://Users/ece/0xdata/h2o-dev/smalldata/airlines/allyears2k_headers.zip', u'__meta': {u'schema_name': u'VecKeyV3', u'schema_version': 3, u'schema_type': u'Key<Vec>'}}, {u'URL': None, u'type': u'Key<Vec>', u'name': u'$04ffd0000000ffffffff$nfs://Users/ece/0xdata/h2o-dev/smalldata/airlines/allyears2k_headers.zip', u'__meta': {u'schema_name': u'VecKeyV3', u'schema_version': 3, u'schema_type': u'Key<Vec>'}}, {u'URL': None, u'type': u'Key<Vec>', u'name': u'$04ffd1000000ffffffff$nfs://Users/ece/0xdata/h2o-dev/smalldata/airlines/allyears2k_headers.zip', u'__meta': {u'schema_name': u'VecKeyV3', u'schema_version': 3, u'schema_type': u'Key<Vec>'}}, {u'URL': None, u'type': u'Key<Vec>', u'name': u'$04ffd2000000ffffffff$nfs://Users/ece/0xdata/h2o-dev/smalldata/airlines/allyears2k_headers.zip', u'__meta': {u'schema_name': u'VecKeyV3', u'schema_version': 3, u'schema_type': u'Key<Vec>'}}, {u'URL': None, u'type': u'Key<Vec>', u'name': u'$04ffd3000000ffffffff$nfs://Users/ece/0xdata/h2o-dev/smalldata/airlines/allyears2k_headers.zip', u'__meta': {u'schema_name': u'VecKeyV3', u'schema_version': 3, u'schema_type': u'Key<Vec>'}}, {u'URL': None, u'type': u'Key<Vec>', u'name': u'$04ffd4000000ffffffff$nfs://Users/ece/0xdata/h2o-dev/smalldata/airlines/allyears2k_headers.zip', u'__meta': {u'schema_name': u'VecKeyV3', u'schema_version': 3, u'schema_type': u'Key<Vec>'}}, {u'URL': None, u'type': u'Key<Vec>', u'name': u'$04ffd5000000ffffffff$nfs://Users/ece/0xdata/h2o-dev/smalldata/airlines/allyears2k_headers.zip', u'__meta': {u'schema_name': u'VecKeyV3', u'schema_version': 3, u'schema_type': u'Key<Vec>'}}, {u'URL': None, u'type': u'Key<Vec>', u'name': u'$04ffd6000000ffffffff$nfs://Users/ece/0xdata/h2o-dev/smalldata/airlines/allyears2k_headers.zip', u'__meta': {u'schema_name': u'VecKeyV3', u'schema_version': 3, u'schema_type': u'Key<Vec>'}}, {u'URL': None, u'type': u'Key<Vec>', u'name': u'$04ffd7000000ffffffff$nfs://Users/ece/0xdata/h2o-dev/smalldata/airlines/allyears2k_headers.zip', u'__meta': {u'schema_name': u'VecKeyV3', u'schema_version': 3, u'schema_type': u'Key<Vec>'}}, {u'URL': None, u'type': u'Key<Vec>', u'name': u'$04ffd8000000ffffffff$nfs://Users/ece/0xdata/h2o-dev/smalldata/airlines/allyears2k_headers.zip', u'__meta': {u'schema_name': u'VecKeyV3', u'schema_version': 3, u'schema_type': u'Key<Vec>'}}, {u'URL': None, u'type': u'Key<Vec>', u'name': u'$04ffd9000000ffffffff$nfs://Users/ece/0xdata/h2o-dev/smalldata/airlines/allyears2k_headers.zip', u'__meta': {u'schema_name': u'VecKeyV3', u'schema_version': 3, u'schema_type': u'Key<Vec>'}}, {u'URL': None, u'type': u'Key<Vec>', u'name': u'$04ffda000000ffffffff$nfs://Users/ece/0xdata/h2o-dev/smalldata/airlines/allyears2k_headers.zip', u'__meta': {u'schema_name': u'VecKeyV3', u'schema_version': 3, u'schema_type': u'Key<Vec>'}}, {u'URL': None, u'type': u'Key<Vec>', u'name': u'$04ffdb000000ffffffff$nfs://Users/ece/0xdata/h2o-dev/smalldata/airlines/allyears2k_headers.zip', u'__meta': {u'schema_name': u'VecKeyV3', u'schema_version': 3, u'schema_type': u'Key<Vec>'}}, {u'URL': None, u'type': u'Key<Vec>', u'name': u'$04ffdc000000ffffffff$nfs://Users/ece/0xdata/h2o-dev/smalldata/airlines/allyears2k_headers.zip', u'__meta': {u'schema_name': u'VecKeyV3', u'schema_version': 3, u'schema_type': u'Key<Vec>'}}, {u'URL': None, u'type': u'Key<Vec>', u'name': u'$04ffdd000000ffffffff$nfs://Users/ece/0xdata/h2o-dev/smalldata/airlines/allyears2k_headers.zip', u'__meta': {u'schema_name': u'VecKeyV3', u'schema_version': 3, u'schema_type': u'Key<Vec>'}}, {u'URL': None, u'type': u'Key<Vec>', u'name': u'$04ffde000000ffffffff$nfs://Users/ece/0xdata/h2o-dev/smalldata/airlines/allyears2k_headers.zip', u'__meta': {u'schema_name': u'VecKeyV3', u'schema_version': 3, u'schema_type': u'Key<Vec>'}}, {u'URL': None, u'type': u'Key<Vec>', u'name': u'$04ffdf000000ffffffff$nfs://Users/ece/0xdata/h2o-dev/smalldata/airlines/allyears2k_headers.zip', u'__meta': {u'schema_name': u'VecKeyV3', u'schema_version': 3, u'schema_type': u'Key<Vec>'}}, {u'URL': None, u'type': u'Key<Vec>', u'name': u'$04ffe0000000ffffffff$nfs://Users/ece/0xdata/h2o-dev/smalldata/airlines/allyears2k_headers.zip', u'__meta': {u'schema_name': u'VecKeyV3', u'schema_version': 3, u'schema_type': u'Key<Vec>'}}, {u'URL': None, u'type': u'Key<Vec>', u'name': u'$04ffe1000000ffffffff$nfs://Users/ece/0xdata/h2o-dev/smalldata/airlines/allyears2k_headers.zip', u'__meta': {u'schema_name': u'VecKeyV3', u'schema_version': 3, u'schema_type': u'Key<Vec>'}}, {u'URL': None, u'type': u'Key<Vec>', u'name': u'$04ffe2000000ffffffff$nfs://Users/ece/0xdata/h2o-dev/smalldata/airlines/allyears2k_headers.zip', u'__meta': {u'schema_name': u'VecKeyV3', u'schema_version': 3, u'schema_type': u'Key<Vec>'}}]\n",
        "Imported /Users/ece/0xdata/h2o-dev/smalldata/airlines/allyears2k_headers.zip into cluster with 43978 rows and 31 cols\n"
       ]
      }
     ],
     "prompt_number": 4
    },
    {
     "cell_type": "code",
     "collapsed": false,
     "input": [
      "numRows, numCols = air.dim()\n",
      "print \"Original dataset rows: {0}, columns: {1}\".format(numRows, numCols)\n",
      "\n",
      "x_cols = [\"Month\", \"DayofMonth\", \"DayOfWeek\", \"CRSDepTime\", \"CRSArrTime\", \"UniqueCarrier\", \"CRSElapsedTime\", \"Origin\", \"Dest\", \"Distance\"]\n",
      "y_col = \"SynthDepDelayed\"\n",
      "\n",
      "noDepDelayedNAs = air[air[\"DepDelay\"].isna() == 0]\n",
      "rows, cols = noDepDelayedNAs.dim()\n",
      "print \"New dataset rows: {0}, columns: {1}\".format(rows, cols)"
     ],
     "language": "python",
     "metadata": {},
     "outputs": [
      {
       "output_type": "stream",
       "stream": "stdout",
       "text": [
        "Original dataset rows: 43978, columns: 31\n",
        "New dataset rows: 42892, columns: 31"
       ]
      },
      {
       "output_type": "stream",
       "stream": "stdout",
       "text": [
        "\n"
       ]
      }
     ],
     "prompt_number": 5
    },
    {
     "cell_type": "code",
     "collapsed": false,
     "input": [
      "minutesOfDelayWeTolerate = 15\n",
      "noDepDelayedNAs.cbind(noDepDelayedNAs[\"DepDelay\"] > minutesOfDelayWeTolerate)\n",
      "noDepDelayedNAs[numCols] = noDepDelayedNAs[numCols].asfactor()\n",
      "noDepDelayedNAs._vecs[numCols].setName(y_col)"
     ],
     "language": "python",
     "metadata": {},
     "outputs": [],
     "prompt_number": 6
    },
    {
     "cell_type": "code",
     "collapsed": false,
     "input": [
      "gbm = h2o.gbm(x=noDepDelayedNAs[x_cols], y=noDepDelayedNAs[y_col], distribution=\"bernoulli\")\n",
      "gbm.show()"
     ],
     "language": "python",
     "metadata": {},
     "outputs": [
      {
       "output_type": "stream",
       "stream": "stdout",
       "text": [
        "\n",
        "\r",
        "gbm Model Build Progress: [                                                  ] 00%"
       ]
      },
      {
       "output_type": "stream",
       "stream": "stdout",
       "text": [
        "\r",
        "gbm Model Build Progress: [###                                               ] 06%"
       ]
      },
      {
       "output_type": "stream",
       "stream": "stdout",
       "text": [
        "\r",
        "gbm Model Build Progress: [#########                                         ] 18%"
       ]
      },
      {
       "output_type": "stream",
       "stream": "stdout",
       "text": [
        "\r",
        "gbm Model Build Progress: [#################                                 ] 34%"
       ]
      },
      {
       "output_type": "stream",
       "stream": "stdout",
       "text": [
        "\r",
        "gbm Model Build Progress: [##########################                        ] 52%"
       ]
      },
      {
       "output_type": "stream",
       "stream": "stdout",
       "text": [
        "\r",
        "gbm Model Build Progress: [######################################            ] 76%"
       ]
      },
      {
       "output_type": "stream",
       "stream": "stdout",
       "text": [
        "\r",
        "gbm Model Build Progress: [##################################################] 100%"
       ]
      },
      {
       "output_type": "stream",
       "stream": "stdout",
       "text": [
        "\n",
        "Model Details\n",
        "=============\n",
        "H2OBinomialModel :  Gradient Boosting Machine\n",
        "Model Key:  GBMModel__a9036c74374dbbac35e7e502a019476c\n",
        "\n",
        "\n",
        "Model Summary:\n",
        "\n",
        "    number_of_trees    min_depth    max_depth    mean_depth    min_leaves    max_leaves    mean_leaves\n",
        "--  -----------------  -----------  -----------  ------------  ------------  ------------  -------------\n",
        "    50                 5            5            5             17            32            28.5\n",
        "\n",
        "\n",
        "\n",
        "\n",
        "Scoring History:\n",
        "\n",
        "    number_of_trees    training_MSE\n",
        "--  -----------------  --------------\n",
        "    1                  0.152175\n",
        "    2                  0.149165\n",
        "    3                  0.146507\n",
        "    4                  0.14434\n",
        "    5                  0.142298\n",
        "    6                  0.140676\n",
        "    7                  0.13918\n",
        "    8                  0.13803\n",
        "    9                  0.13688\n",
        "    10                 0.135886\n",
        "    11                 0.135021\n",
        "    12                 0.134169\n",
        "    13                 0.133528\n",
        "    14                 0.132969\n",
        "    15                 0.132286\n",
        "    16                 0.131457\n",
        "    17                 0.131043\n",
        "    18                 0.130646\n",
        "    19                 0.130045\n",
        "    20                 0.129561\n",
        "    21                 0.129105\n",
        "    22                 0.128739\n",
        "    23                 0.128242\n",
        "    24                 0.127911\n",
        "    25                 0.127608\n",
        "    26                 0.127266\n",
        "    27                 0.126921\n",
        "    28                 0.126717\n",
        "    29                 0.126443\n",
        "    30                 0.126242\n",
        "    31                 0.125969\n",
        "    32                 0.125654\n",
        "    33                 0.125407\n",
        "    34                 0.125098\n",
        "    35                 0.124847\n",
        "    36                 0.124647\n",
        "    37                 0.124442\n",
        "    38                 0.124193\n",
        "    39                 0.12397\n",
        "    40                 0.123773\n",
        "    41                 0.123647\n",
        "    42                 0.123514\n",
        "    43                 0.123399\n",
        "    44                 0.123277\n",
        "    45                 0.123213\n",
        "    46                 0.123094\n",
        "    47                 0.122973\n",
        "    48                 0.122821\n",
        "    49                 0.122547\n",
        "    50                 0.122362\n",
        "\n",
        "\n",
        "Variable Importances:\n",
        "\n",
        "variable        relative_importance    scaled_importance    percentage\n",
        "--------------  ---------------------  -------------------  ------------\n",
        "Origin          2595.06                1                    0.313097\n",
        "Dest            2046.15                0.78848              0.24687\n",
        "DayofMonth      1619.8                 0.624188             0.195431\n",
        "CRSDepTime      840.424                0.323856             0.101398\n",
        "CRSArrTime      573.66                 0.221059             0.0692127\n",
        "UniqueCarrier   259.302                0.0999214            0.031285\n",
        "DayOfWeek       238.714                0.0919878            0.0288011\n",
        "CRSElapsedTime  49.7895                0.0191863            0.00600716\n",
        "Distance        32.7535                0.0126215            0.00395175\n",
        "Month           32.7073                0.0126037            0.00394617\n",
        "\n"
       ]
      }
     ],
     "prompt_number": 7
    }
   ],
   "metadata": {}
  }
 ]
}