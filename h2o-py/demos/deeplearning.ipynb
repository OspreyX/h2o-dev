{
 "metadata": {
  "name": "",
  "signature": "sha256:8acd76a47cb774a200e0d0d926b79179f3f8f8f2d21871e402a3bde336cc6f6f"
 },
 "nbformat": 3,
 "nbformat_minor": 0,
 "worksheets": [
  {
   "cells": [
    {
     "cell_type": "code",
     "collapsed": false,
     "input": [
      "import h2o"
     ],
     "language": "python",
     "metadata": {},
     "outputs": [],
     "prompt_number": 1
    },
    {
     "cell_type": "code",
     "collapsed": false,
     "input": [
      "h2o.init()"
     ],
     "language": "python",
     "metadata": {},
     "outputs": [
      {
       "output_type": "stream",
       "stream": "stdout",
       "text": [
        "\n",
        "--------------------------  -------------------------------------\n",
        "H2O cluster uptime:         9 minutes 56 seconds 921 milliseconds\n",
        "H2O cluster version:        0.3.0.99999\n",
        "H2O cluster name:           ece\n",
        "H2O cluster total nodes:    1\n",
        "H2O cluster total memory:   3.56 GB\n",
        "H2O cluster total cores:    8\n",
        "H2O cluster allowed cores:  8\n",
        "H2O cluster healthy:        True\n",
        "--------------------------  -------------------------------------\n",
        "\n"
       ]
      }
     ],
     "prompt_number": 2
    },
    {
     "cell_type": "code",
     "collapsed": false,
     "input": [
      "prostate = h2o.upload_file(path=h2o.locate(\"smalldata/logreg/prostate.csv\"))\n",
      "prostate.describe()"
     ],
     "language": "python",
     "metadata": {},
     "outputs": [
      {
       "output_type": "stream",
       "stream": "stdout",
       "text": [
        "\n",
        "\r",
        "Parse Progress: [                                                  ] 00%"
       ]
      },
      {
       "output_type": "stream",
       "stream": "stdout",
       "text": [
        "\r",
        "Parse Progress: [##################################################] 100%"
       ]
      },
      {
       "output_type": "stream",
       "stream": "stdout",
       "text": [
        "\n",
        "Uploaded py69cc324c-01f4-43bf-8563-79d5d63dc469 into cluster with 380 rows and 9 cols\n",
        "Rows: 380 Cols: 9\n",
        "               ID    CAPSULE    AGE    RACE    DPROS    DCAPS    PSA    VOL    GLEASON\n",
        "-------------  ----  ---------  -----  ------  -------  -------  -----  -----  ---------\n",
        "type           int   int        int    int     int      int      real   real   int\n",
        "mins\n",
        "mean           0.0   0.0        0.0    0.0     0.0      0.0      0.0    0.0    0.0\n",
        "maxs\n",
        "sigma          0.0   0.0        0.0    0.0     0.0      0.0      0.0    0.0    0.0\n",
        "zero_count     0     0          0      0       0        0        0      0      0\n",
        "missing_count  0     0          0      0       0        0        0      0      0"
       ]
      },
      {
       "output_type": "stream",
       "stream": "stdout",
       "text": [
        "\n",
        "\n",
        "\n",
        "Internal FluidVec compression/distribution summary:\n",
        "\n",
        "    chunk_type    count    count_percentage    size    size_percentage\n",
        "--  ------------  -------  ------------------  ------  -----------------\n",
        "    CBS           1        11.1111             118  B  1.25505\n",
        "    C1N           5        55.5556             2.2 KB  23.8247\n",
        "    C2            1        11.1111             828  B  8.80664\n",
        "    C8D           2        22.2222             6.1 KB  66.1136\n",
        "\n",
        "\n",
        "\n"
       ]
      }
     ],
     "prompt_number": 3
    },
    {
     "cell_type": "code",
     "collapsed": false,
     "input": [
      "prostate[\"CAPSULE\"] = prostate[\"CAPSULE\"].asfactor()\n",
      "model = h2o.deeplearning(x = prostate[list(set(prostate.col_names()) - set([\"ID\",\"CAPSULE\"]))], y = prostate[\"CAPSULE\"], training_frame = prostate, activation = \"Tanh\", hidden = [10, 10, 10], epochs = 10000)\n",
      "model.show()"
     ],
     "language": "python",
     "metadata": {},
     "outputs": [
      {
       "output_type": "stream",
       "stream": "stdout",
       "text": [
        "\n",
        "\r",
        "deeplearning Model Build Progress: [                                                  ] 00%"
       ]
      },
      {
       "output_type": "stream",
       "stream": "stdout",
       "text": [
        "\r",
        "deeplearning Model Build Progress: [                                                  ] 01%"
       ]
      },
      {
       "output_type": "stream",
       "stream": "stdout",
       "text": [
        "\r",
        "deeplearning Model Build Progress: [#                                                 ] 03%"
       ]
      },
      {
       "output_type": "stream",
       "stream": "stdout",
       "text": [
        "\r",
        "deeplearning Model Build Progress: [###                                               ] 06%"
       ]
      },
      {
       "output_type": "stream",
       "stream": "stdout",
       "text": [
        "\r",
        "deeplearning Model Build Progress: [#####                                             ] 10%"
       ]
      },
      {
       "output_type": "stream",
       "stream": "stdout",
       "text": [
        "\r",
        "deeplearning Model Build Progress: [#######                                           ] 14%"
       ]
      },
      {
       "output_type": "stream",
       "stream": "stdout",
       "text": [
        "\r",
        "deeplearning Model Build Progress: [##########                                        ] 20%"
       ]
      },
      {
       "output_type": "stream",
       "stream": "stdout",
       "text": [
        "\r",
        "deeplearning Model Build Progress: [#############                                     ] 27%"
       ]
      },
      {
       "output_type": "stream",
       "stream": "stdout",
       "text": [
        "\r",
        "deeplearning Model Build Progress: [#################                                 ] 35%"
       ]
      },
      {
       "output_type": "stream",
       "stream": "stdout",
       "text": [
        "\r",
        "deeplearning Model Build Progress: [######################                            ] 44%"
       ]
      },
      {
       "output_type": "stream",
       "stream": "stdout",
       "text": [
        "\r",
        "deeplearning Model Build Progress: [###########################                       ] 54%"
       ]
      },
      {
       "output_type": "stream",
       "stream": "stdout",
       "text": [
        "\r",
        "deeplearning Model Build Progress: [################################                  ] 65%"
       ]
      },
      {
       "output_type": "stream",
       "stream": "stdout",
       "text": [
        "\r",
        "deeplearning Model Build Progress: [######################################            ] 76%"
       ]
      },
      {
       "output_type": "stream",
       "stream": "stdout",
       "text": [
        "\r",
        "deeplearning Model Build Progress: [###########################################       ] 87%"
       ]
      },
      {
       "output_type": "stream",
       "stream": "stdout",
       "text": [
        "\r",
        "deeplearning Model Build Progress: [################################################# ] 98%"
       ]
      },
      {
       "output_type": "stream",
       "stream": "stdout",
       "text": [
        "\r",
        "deeplearning Model Build Progress: [##################################################] 100%"
       ]
      },
      {
       "output_type": "stream",
       "stream": "stdout",
       "text": [
        "\n",
        "Model Details\n",
        "=============\n",
        "H2OBinomialModel :  Deep Learning\n",
        "Model Key:  DeepLearningModel__b3f21cff47cfd0527f14f748c7304cea\n",
        "\n",
        "\n",
        "Status of Neuron Layers:\n",
        "\n",
        "    layer    units    type     dropout    l1    l2    mean_rate    rate_RMS     momentum    mean_weight    weight_RMS    mean_bias     bias_RMS\n",
        "--  -------  -------  -------  ---------  ----  ----  -----------  -----------  ----------  -------------  ------------  ------------  ----------\n",
        "    1        7        Input\n",
        "    2        10       Tanh                            0.009799549  0.013425183              -0.119692124   0.9540829     0.08657764    0.23464778\n",
        "    3        10       Tanh                            0.015558412  0.016637994              0.020974169    1.3630171     0.24327281    0.7678805\n",
        "    4        10       Tanh                            0.063647985  0.059667774              -0.09506344    2.1956532     -0.6118452    0.70294553\n",
        "    5        2        Softmax                         0.029187312  0.018079495              -0.057265423   4.714899      -0.046646535  1.056594\n",
        "\n",
        "\n",
        "\n",
        "\n",
        "Scoring History:\n",
        "\n",
        "    timestamp            duration    training_speed       epochs    samples    training_MSE    training_r2    training_logloss    training_AUC    training_classification_error\n",
        "--  -------------------  ----------  -------------------  --------  ---------  --------------  -------------  ------------------  --------------  -------------------------------\n",
        "    2015-04-16 17:44:17  0.000 sec                                             nan             nan            nan                 nan             nan\n",
        "    2015-04-16 17:44:17  0.011 sec   345454.545 rows/sec  10.0      3800.0     0.171339        0.289503       0.51922             0.812646        0.244737\n",
        "    2015-04-16 17:44:22  5.018 sec   365763.252 rows/sec  4830.0    1835400.0  0.0163951       0.932014       0.0720992           0.99548         0.0157895\n",
        "    2015-04-16 17:44:27  10.026 sec  373708.358 rows/sec  9860.0    3746800.0  0.00589489      0.975556       0.0258523           0.999568        0.00526316\n",
        "    2015-04-16 17:44:27  10.188 sec  372987.829 rows/sec  10000.0   3800000.0  0.00859993      0.964338       0.0356361           0.999251        0.00789474\n",
        "    2015-04-16 17:44:27  10.193 sec  372804.866 rows/sec  10000.0   3800000.0  0.00589489      0.975556       0.0258523           0.999568        0.00526316\n",
        "\n"
       ]
      }
     ],
     "prompt_number": 4
    },
    {
     "cell_type": "code",
     "collapsed": false,
     "input": [
      "predictions = model.predict(prostate)\n",
      "predictions.head()\n",
      "predictions.tail()"
     ],
     "language": "python",
     "metadata": {},
     "outputs": [
      {
       "output_type": "stream",
       "stream": "stdout",
       "text": [
        "First 10 rows and first 3 columns: \n",
        "  Row ID    predict            0            1\n",
        "--------  ---------  -----------  -----------\n",
        "       1          0  1            1.64747e-08\n",
        "       2          0  0.999862     0.000138352\n",
        "       3          0  1            8.84663e-11\n",
        "       4          0  0.998893     0.00110745\n",
        "       5          0  1            1.32582e-08\n",
        "       6          1  1.02354e-07  1\n",
        "       7          0  0.999752     0.000248481\n",
        "       8          0  1            2.64445e-08\n",
        "       9          0  1            3.13719e-12\n",
        "      10          0  0.999999     1.20658e-06\n",
        "\n",
        "Last 10 rows and first 3 columns: \n",
        "  Row ID    predict            0            1\n",
        "--------  ---------  -----------  -----------\n",
        "     371          1  0.00653535   0.993465\n",
        "     372          0  0.999999     1.39154e-06\n",
        "     373          0  0.999998     1.5697e-06\n",
        "     374          1  1.20391e-12  1\n",
        "     375          0  0.999982     1.75499e-05\n",
        "     376          0  0.999995     5.0469e-06\n",
        "     377          0  1            4.77572e-08\n",
        "     378          1  1.8357e-05   0.999982\n",
        "     379          0  1            8.34199e-14\n",
        "     380          0  0.999801     0.000198552\n",
        "\n"
       ]
      }
     ],
     "prompt_number": 5
    },
    {
     "cell_type": "code",
     "collapsed": false,
     "input": [
      "performance = model.model_performance(prostate)\n",
      "performance.show()"
     ],
     "language": "python",
     "metadata": {},
     "outputs": [
      {
       "output_type": "stream",
       "stream": "stdout",
       "text": [
        "\n",
        "Overall AUC (independent of criterion): 0.999568109182\n",
        "Overall Gini (independent of criterion): 0.999136218364\n",
        "\n",
        "\n",
        "Maximum Metric:\n",
        "\n",
        "metric                  threshold          value           idx\n",
        "----------------------  -----------------  --------------  -----\n",
        "f1                      0.829808354378     0.993421052632  104.0\n",
        "f2                      0.594949662685     0.992167101828  107.0\n",
        "f0point5                0.829808354378     0.997357992074  104.0\n",
        "accuracy                0.829808354378     0.994736842105  104.0\n",
        "precision               1.0                1.0\n",
        "recall                  0.00275528663769   1.0             119.0\n",
        "specificity             1.0                1.0\n",
        "absolute_MCC            0.829808354378     0.989094861551  104.0\n",
        "min_per_class_accuracy  0.594949662685     0.991189427313  107.0\n",
        "tns                     1.0                227.0\n",
        "fns                     1.0                126.0\n",
        "fps                     9.98222588684e-12  227.0           255.0\n",
        "tps                     0.00275528663769   153.0           119.0\n",
        "idx\n",
        "\n",
        "\n"
       ]
      }
     ],
     "prompt_number": 6
    },
    {
     "cell_type": "code",
     "collapsed": false,
     "input": [],
     "language": "python",
     "metadata": {},
     "outputs": [],
     "prompt_number": 6
    }
   ],
   "metadata": {}
  }
 ]
}