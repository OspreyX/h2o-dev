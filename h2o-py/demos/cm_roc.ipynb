{
 "metadata": {
  "name": "",
  "signature": "sha256:50c8b298dd0b5deabc0da32e207cab5cf480ede4dd8f33d8b3cf7b917898d11f"
 },
 "nbformat": 3,
 "nbformat_minor": 0,
 "worksheets": [
  {
   "cells": [
    {
     "cell_type": "code",
     "collapsed": false,
     "input": [
      "import h2o"
     ],
     "language": "python",
     "metadata": {},
     "outputs": [],
     "prompt_number": 1
    },
    {
     "cell_type": "code",
     "collapsed": false,
     "input": [
      "h2o.init()"
     ],
     "language": "python",
     "metadata": {},
     "outputs": [
      {
       "output_type": "stream",
       "stream": "stdout",
       "text": [
        "\n",
        "--------------------------  --------------------------------------\n",
        "H2O cluster uptime:         14 minutes 29 seconds 802 milliseconds\n",
        "H2O cluster version:        0.3.0.99999\n",
        "H2O cluster name:           ece\n",
        "H2O cluster total nodes:    1\n",
        "H2O cluster total memory:   3.56 GB\n",
        "H2O cluster total cores:    8\n",
        "H2O cluster allowed cores:  8\n",
        "H2O cluster healthy:        True\n",
        "--------------------------  --------------------------------------\n",
        "\n"
       ]
      }
     ],
     "prompt_number": 2
    },
    {
     "cell_type": "code",
     "collapsed": false,
     "input": [
      "#uploading data file to h2o\n",
      "air = h2o.import_frame(path=h2o.locate(\"smalldata/airlines/AirlinesTrain.csv.zip\"))"
     ],
     "language": "python",
     "metadata": {},
     "outputs": [
      {
       "output_type": "stream",
       "stream": "stdout",
       "text": [
        "\n",
        "\r",
        "Parse Progress: [                                                  ] 00%"
       ]
      },
      {
       "output_type": "stream",
       "stream": "stdout",
       "text": [
        "\r",
        "Parse Progress: [##################################################] 100%"
       ]
      },
      {
       "output_type": "stream",
       "stream": "stdout",
       "text": [
        "\n",
        "Veckeys [{u'URL': None, u'type': u'Key<Vec>', u'name': u'$04ffab000000ffffffff$nfs://Users/ece/0xdata/h2o-dev/smalldata/airlines/AirlinesTrain.csv.zip', u'__meta': {u'schema_name': u'VecKeyV3', u'schema_version': 3, u'schema_type': u'Key<Vec>'}}, {u'URL': None, u'type': u'Key<Vec>', u'name': u'$04ffac000000ffffffff$nfs://Users/ece/0xdata/h2o-dev/smalldata/airlines/AirlinesTrain.csv.zip', u'__meta': {u'schema_name': u'VecKeyV3', u'schema_version': 3, u'schema_type': u'Key<Vec>'}}, {u'URL': None, u'type': u'Key<Vec>', u'name': u'$04ffad000000ffffffff$nfs://Users/ece/0xdata/h2o-dev/smalldata/airlines/AirlinesTrain.csv.zip', u'__meta': {u'schema_name': u'VecKeyV3', u'schema_version': 3, u'schema_type': u'Key<Vec>'}}, {u'URL': None, u'type': u'Key<Vec>', u'name': u'$04ffae000000ffffffff$nfs://Users/ece/0xdata/h2o-dev/smalldata/airlines/AirlinesTrain.csv.zip', u'__meta': {u'schema_name': u'VecKeyV3', u'schema_version': 3, u'schema_type': u'Key<Vec>'}}, {u'URL': None, u'type': u'Key<Vec>', u'name': u'$04ffaf000000ffffffff$nfs://Users/ece/0xdata/h2o-dev/smalldata/airlines/AirlinesTrain.csv.zip', u'__meta': {u'schema_name': u'VecKeyV3', u'schema_version': 3, u'schema_type': u'Key<Vec>'}}, {u'URL': None, u'type': u'Key<Vec>', u'name': u'$04ffb0000000ffffffff$nfs://Users/ece/0xdata/h2o-dev/smalldata/airlines/AirlinesTrain.csv.zip', u'__meta': {u'schema_name': u'VecKeyV3', u'schema_version': 3, u'schema_type': u'Key<Vec>'}}, {u'URL': None, u'type': u'Key<Vec>', u'name': u'$04ffb1000000ffffffff$nfs://Users/ece/0xdata/h2o-dev/smalldata/airlines/AirlinesTrain.csv.zip', u'__meta': {u'schema_name': u'VecKeyV3', u'schema_version': 3, u'schema_type': u'Key<Vec>'}}, {u'URL': None, u'type': u'Key<Vec>', u'name': u'$04ffb2000000ffffffff$nfs://Users/ece/0xdata/h2o-dev/smalldata/airlines/AirlinesTrain.csv.zip', u'__meta': {u'schema_name': u'VecKeyV3', u'schema_version': 3, u'schema_type': u'Key<Vec>'}}, {u'URL': None, u'type': u'Key<Vec>', u'name': u'$04ffb3000000ffffffff$nfs://Users/ece/0xdata/h2o-dev/smalldata/airlines/AirlinesTrain.csv.zip', u'__meta': {u'schema_name': u'VecKeyV3', u'schema_version': 3, u'schema_type': u'Key<Vec>'}}, {u'URL': None, u'type': u'Key<Vec>', u'name': u'$04ffb4000000ffffffff$nfs://Users/ece/0xdata/h2o-dev/smalldata/airlines/AirlinesTrain.csv.zip', u'__meta': {u'schema_name': u'VecKeyV3', u'schema_version': 3, u'schema_type': u'Key<Vec>'}}, {u'URL': None, u'type': u'Key<Vec>', u'name': u'$04ffb5000000ffffffff$nfs://Users/ece/0xdata/h2o-dev/smalldata/airlines/AirlinesTrain.csv.zip', u'__meta': {u'schema_name': u'VecKeyV3', u'schema_version': 3, u'schema_type': u'Key<Vec>'}}, {u'URL': None, u'type': u'Key<Vec>', u'name': u'$04ffb6000000ffffffff$nfs://Users/ece/0xdata/h2o-dev/smalldata/airlines/AirlinesTrain.csv.zip', u'__meta': {u'schema_name': u'VecKeyV3', u'schema_version': 3, u'schema_type': u'Key<Vec>'}}]\n",
        "Imported /Users/ece/0xdata/h2o-dev/smalldata/airlines/AirlinesTrain.csv.zip into cluster with 24421 rows and 12 cols\n"
       ]
      }
     ],
     "prompt_number": 3
    },
    {
     "cell_type": "code",
     "collapsed": false,
     "input": [
      "# Constructing validation and train sets by sampling (20/80)\n",
      "# creating a column as tall as air.nrow()\n",
      "r = air[0].runif()\n",
      "air_train = air[r < 0.8]\n",
      "air_valid = air[r >= 0.8]\n",
      "\n",
      "myX = [\"Origin\", \"Dest\", \"Distance\", \"UniqueCarrier\", \"fMonth\", \"fDayofMonth\", \"fDayOfWeek\"]\n",
      "myY = \"IsDepDelayed\""
     ],
     "language": "python",
     "metadata": {},
     "outputs": [],
     "prompt_number": 4
    },
    {
     "cell_type": "code",
     "collapsed": false,
     "input": [
      "#gbm\n",
      "gbm = h2o.gbm(x=air_train[myX], \n",
      "              y=air_train[myY], \n",
      "              validation_x=air_valid[myX],\n",
      "              validation_y=air_valid[myY],\n",
      "              distribution=\"bernoulli\", \n",
      "              ntrees=100, \n",
      "              max_depth=3, \n",
      "              learn_rate=0.01)\n",
      "gbm.show()"
     ],
     "language": "python",
     "metadata": {},
     "outputs": [
      {
       "output_type": "stream",
       "stream": "stdout",
       "text": [
        "\n",
        "\r",
        "gbm Model Build Progress: [                                                  ] 00%"
       ]
      },
      {
       "output_type": "stream",
       "stream": "stdout",
       "text": [
        "\r",
        "gbm Model Build Progress: [##                                                ] 04%"
       ]
      },
      {
       "output_type": "stream",
       "stream": "stdout",
       "text": [
        "\r",
        "gbm Model Build Progress: [####                                              ] 09%"
       ]
      },
      {
       "output_type": "stream",
       "stream": "stdout",
       "text": [
        "\r",
        "gbm Model Build Progress: [#######                                           ] 15%"
       ]
      },
      {
       "output_type": "stream",
       "stream": "stdout",
       "text": [
        "\r",
        "gbm Model Build Progress: [##########                                        ] 20%"
       ]
      },
      {
       "output_type": "stream",
       "stream": "stdout",
       "text": [
        "\r",
        "gbm Model Build Progress: [#############                                     ] 26%"
       ]
      },
      {
       "output_type": "stream",
       "stream": "stdout",
       "text": [
        "\r",
        "gbm Model Build Progress: [################                                  ] 32%"
       ]
      },
      {
       "output_type": "stream",
       "stream": "stdout",
       "text": [
        "\r",
        "gbm Model Build Progress: [##################                                ] 37%"
       ]
      },
      {
       "output_type": "stream",
       "stream": "stdout",
       "text": [
        "\r",
        "gbm Model Build Progress: [#####################                             ] 42%"
       ]
      },
      {
       "output_type": "stream",
       "stream": "stdout",
       "text": [
        "\r",
        "gbm Model Build Progress: [################################################# ] 99%"
       ]
      },
      {
       "output_type": "stream",
       "stream": "stdout",
       "text": [
        "\r",
        "gbm Model Build Progress: [##################################################] 100%"
       ]
      },
      {
       "output_type": "stream",
       "stream": "stdout",
       "text": [
        "\n",
        "Model Details\n",
        "=============\n",
        "H2OBinomialModel :  Gradient Boosting Machine\n",
        "Model Key:  GBMModel__84bb68ce3b4cfb70f6e1902adaf04b1b\n",
        "\n",
        "\n",
        "Model Summary:\n",
        "\n",
        "    number_of_trees    min_depth    max_depth    mean_depth    min_leaves    max_leaves    mean_leaves\n",
        "--  -----------------  -----------  -----------  ------------  ------------  ------------  -------------\n",
        "    100                3            3            3             8             8             8\n",
        "\n",
        "\n",
        "\n",
        "\n",
        "Scoring History:\n",
        "\n",
        "    number_of_trees    training_MSE    validation_MSE\n",
        "--  -----------------  --------------  ----------------\n",
        "    1                  0.247495        0.246939\n",
        "    2                  0.247078        0.246588\n",
        "    3                  0.246654        0.246239\n",
        "    4                  0.246246        0.2459\n",
        "    5                  0.245846        0.245569\n",
        "    6                  0.245439        0.245225\n",
        "    7                  0.245054        0.244909\n",
        "    8                  0.244693        0.244606\n",
        "    9                  0.244328        0.244298\n",
        "    10                 0.243926        0.243964\n",
        "    11                 0.243567        0.243676\n",
        "    12                 0.243222        0.243386\n",
        "    13                 0.242839        0.243068\n",
        "    14                 0.242478        0.242782\n",
        "    15                 0.242125        0.242505\n",
        "    16                 0.24178         0.242219\n",
        "    17                 0.241452        0.241948\n",
        "    18                 0.241114        0.241692\n",
        "    19                 0.240768        0.241405\n",
        "    20                 0.240444        0.241156\n",
        "    21                 0.240125        0.240899\n",
        "    22                 0.239811        0.240649\n",
        "    23                 0.239501        0.240409\n",
        "    24                 0.239165        0.240129\n",
        "    25                 0.238879        0.239897\n",
        "    26                 0.238599        0.239684\n",
        "    27                 0.238278        0.239415\n",
        "    28                 0.237995        0.239183\n",
        "    29                 0.237685        0.238924\n",
        "    30                 0.237422        0.238727\n",
        "    31                 0.237152        0.238507\n",
        "    32                 0.236859        0.238269\n",
        "    33                 0.23661         0.238084\n",
        "    34                 0.236326        0.237852\n",
        "    35                 0.236073        0.237661\n",
        "    36                 0.23577         0.2374\n",
        "    37                 0.235525        0.237198\n",
        "    38                 0.235232        0.236944\n",
        "    39                 0.234995        0.236774\n",
        "    40                 0.234712        0.236527\n",
        "    41                 0.234458        0.236316\n",
        "    42                 0.234241        0.236158\n",
        "    43                 0.234026        0.23599\n",
        "    44                 0.233759        0.235759\n",
        "    45                 nan             nan\n",
        "    46                 nan             nan\n",
        "    47                 nan             nan\n",
        "    48                 nan             nan\n",
        "    49                 nan             nan\n",
        "    50                 nan             nan\n",
        "    51                 nan             nan\n",
        "    52                 nan             nan\n",
        "    53                 nan             nan\n",
        "    54                 nan             nan\n",
        "    55                 nan             nan\n",
        "    56                 nan             nan\n",
        "    57                 nan             nan\n",
        "    58                 nan             nan\n",
        "    59                 nan             nan\n",
        "    60                 nan             nan\n",
        "    61                 nan             nan\n",
        "    62                 nan             nan\n",
        "    63                 nan             nan\n",
        "    64                 nan             nan\n",
        "    65                 nan             nan\n",
        "    66                 nan             nan\n",
        "    67                 nan             nan\n",
        "    68                 nan             nan\n",
        "    69                 nan             nan\n",
        "    70                 nan             nan\n",
        "    71                 nan             nan\n",
        "    72                 nan             nan\n",
        "    73                 nan             nan\n",
        "    74                 nan             nan\n",
        "    75                 nan             nan\n",
        "    76                 nan             nan\n",
        "    77                 nan             nan\n",
        "    78                 nan             nan\n",
        "    79                 nan             nan\n",
        "    80                 nan             nan\n",
        "    81                 nan             nan\n",
        "    82                 nan             nan\n",
        "    83                 nan             nan\n",
        "    84                 nan             nan\n",
        "    85                 nan             nan\n",
        "    86                 nan             nan\n",
        "    87                 nan             nan\n",
        "    88                 nan             nan\n",
        "    89                 nan             nan\n",
        "    90                 nan             nan\n",
        "    91                 nan             nan\n",
        "    92                 nan             nan\n",
        "    93                 nan             nan\n",
        "    94                 nan             nan\n",
        "    95                 nan             nan\n",
        "    96                 nan             nan\n",
        "    97                 nan             nan\n",
        "    98                 nan             nan\n",
        "    99                 nan             nan\n",
        "    100                0.224654        0.229076\n",
        "\n",
        "\n",
        "Variable Importances:\n",
        "\n",
        "variable       relative_importance    scaled_importance    percentage\n",
        "-------------  ---------------------  -------------------  ----------------\n",
        "Origin         18031.4960938          1.0                  0.706740715663\n",
        "Dest           4512.38330078          0.250250077826       0.176861919098\n",
        "UniqueCarrier  1611.45483398          0.0893688923873      0.0631606349639\n",
        "fDayofMonth    1320.81811523          0.073250611506       0.0517691895985\n",
        "fDayOfWeek     37.442237854           0.00207649091675     0.00146754067657\n",
        "Distance\n",
        "fMonth\n",
        "\n"
       ]
      }
     ],
     "prompt_number": 5
    },
    {
     "cell_type": "code",
     "collapsed": false,
     "input": [
      "#glm\n",
      "glm = h2o.glm(x=air_train[myX], \n",
      "              y=air_train[myY],\n",
      "              validation_x=air_valid[myX],\n",
      "              validation_y=air_valid[myY],\n",
      "              family = \"binomial\", \n",
      "              solver=\"L_BFGS\")\n",
      "glm.pprint_coef()\n",
      "    "
     ],
     "language": "python",
     "metadata": {},
     "outputs": [
      {
       "output_type": "stream",
       "stream": "stdout",
       "text": [
        "\n",
        "\r",
        "glm Model Build Progress: [                                                  ] 00%"
       ]
      },
      {
       "output_type": "stream",
       "stream": "stdout",
       "text": [
        "\r",
        "glm Model Build Progress: [                                                                                                    ] -100%"
       ]
      },
      {
       "output_type": "stream",
       "stream": "stdout",
       "text": [
        "\r",
        "glm Model Build Progress: [##################################################] 100%"
       ]
      },
      {
       "output_type": "stream",
       "stream": "stdout",
       "text": [
        "\n",
        "\n",
        "Coefficient Magnitudes:\n",
        "\n",
        "names             coefficients\n",
        "----------------  --------------\n",
        "Origin.ABQ        0.0369195\n",
        "Origin.ACY        0.0157378\n",
        "Origin.ALB        0.0119162\n",
        "Origin.ATL        0.128246\n",
        "Origin.AUS        0.152507\n",
        "Origin.AVP        0.0124772\n",
        "Origin.BDL        0.0153913\n",
        "Origin.BGM        0.00317706\n",
        "Origin.BHM        0.0150681\n",
        "Origin.BNA        0.0211682\n",
        "Origin.BOS        0.0163219\n",
        "Origin.BTV        0.00691183\n",
        "Origin.BUF        0.00445871\n",
        "Origin.BUR        0.162375\n",
        "Origin.BWI        0.00423153\n",
        "Origin.CAE        0.00809151\n",
        "Origin.CHO        0.0118917\n",
        "Origin.CHS        0.00562287\n",
        "Origin.CLE        0.0824181\n",
        "Origin.CLT        0.0212496\n",
        "Origin.CMH        0.0304523\n",
        "Origin.COS        0.0516959\n",
        "Origin.CRW        0.0149669\n",
        "Origin.CVG        0.0422147\n",
        "Origin.DAY        0.0153259\n",
        "Origin.DCA        0.0341001\n",
        "Origin.DEN        0.0196412\n",
        "Origin.DFW        0.0775684\n",
        "Origin.DSM        0.00139404\n",
        "Origin.DTW        0.00823786\n",
        "Origin.ERI        0.0155199\n",
        "Origin.EWR        0.0583506\n",
        "Origin.FLL        0.0182879\n",
        "Origin.GSO        0.0142571\n",
        "Origin.HNL        0.0848718\n",
        "Origin.IAD        0.000291857\n",
        "Origin.IAH        0.0391827\n",
        "Origin.ICT        0.00218971\n",
        "Origin.IND        0.0595962\n",
        "Origin.ISP        0.00114139\n",
        "Origin.JAX        0.0150013\n",
        "Origin.JFK        0.0102073\n",
        "Origin.LAS        0.00815315\n",
        "Origin.LAX        0.132575\n",
        "Origin.LEX        0.00697867\n",
        "Origin.LGA        0.0682805\n",
        "Origin.LIH        0.0215412\n",
        "Origin.LYH        0.00826635\n",
        "Origin.MCI        0.0144187\n",
        "Origin.MCO        0.0192103\n",
        "Origin.MDT        0.0213056\n",
        "Origin.MDW        0.00691424\n",
        "Origin.MFR        0.00291365\n",
        "Origin.MHT        0.00155753\n",
        "Origin.MIA        0.0231512\n",
        "Origin.MKE        0.00896479\n",
        "Origin.MLB        0.00756247\n",
        "Origin.MRY        0.00815305\n",
        "Origin.MSP        0.00963192\n",
        "Origin.MSY        0.0121481\n",
        "Origin.MYR        0.0249636\n",
        "Origin.OAK        0.0829553\n",
        "Origin.OGG        0.00555051\n",
        "Origin.OMA        0.0146822\n",
        "Origin.ORD        0.0727849\n",
        "Origin.ORF        0.014559\n",
        "Origin.PBI        0.0393582\n",
        "Origin.PHF        0.00730252\n",
        "Origin.PHL        0.0369777\n",
        "Origin.PHX        0.0174838\n",
        "Origin.PIT        0.237536\n",
        "Origin.PSP        0.0225056\n",
        "Origin.PVD        0.00743595\n",
        "Origin.PWM        0.0321536\n",
        "Origin.RDU        0.0235876\n",
        "Origin.RIC        0.0014446\n",
        "Origin.RNO        0.00273297\n",
        "Origin.ROA        0.00668743\n",
        "Origin.ROC        0.0308007\n",
        "Origin.RSW        0.00590891\n",
        "Origin.SAN        0.0630088\n",
        "Origin.SBN        0.000550345\n",
        "Origin.SCK        0.00516723\n",
        "Origin.SDF        0.0103139\n",
        "Origin.SEA        0.00410408\n",
        "Origin.SFO        0.0306624\n",
        "Origin.SJC        0.0244223\n",
        "Origin.SJU        0.0205834\n",
        "Origin.SLC        0.0275884\n",
        "Origin.SMF        0.0136141\n",
        "Origin.SNA        0.00670777\n",
        "Origin.SRQ        0.0116228\n",
        "Origin.STL        0.0441321\n",
        "Origin.STX        0.00524156\n",
        "Origin.SWF        0.00176315\n",
        "Origin.SYR        0.0556308\n",
        "Origin.TLH        0.0152835\n",
        "Origin.TPA        0.0276864\n",
        "Origin.TRI        0.0100448\n",
        "Origin.TUS        0.00684729\n",
        "Origin.TYS        0.000695086\n",
        "Origin.UCA        0.00124029\n",
        "Dest.ABQ          0.0303984\n",
        "Dest.ACY          0.00145055\n",
        "Dest.ALB          0.0125469\n",
        "Dest.ATL          0.00245802\n",
        "Dest.AVP          0.00109084\n",
        "Dest.BDL          0.0145824\n",
        "Dest.BGM          0.00681425\n",
        "Dest.BNA          0.0168668\n",
        "Dest.BOS          0.0264665\n",
        "Dest.BTV          0.000545737\n",
        "Dest.BUF          0.0178913\n",
        "Dest.BUR          0.0403486\n",
        "Dest.BWI          0.0307409\n",
        "Dest.CAE          0.0139714\n",
        "Dest.CAK          0.00523013\n",
        "Dest.CHA          0.00131492\n",
        "Dest.CHO          0.00826635\n",
        "Dest.CHS          0.0108879\n",
        "Dest.CLE          0.0386086\n",
        "Dest.CLT          0.0527066\n",
        "Dest.CMH          0.0269434\n",
        "Dest.DAY          0.00950352\n",
        "Dest.DCA          0.0496264\n",
        "Dest.DEN          0.0454678\n",
        "Dest.DFW          0.0130176\n",
        "Dest.DTW          0.00605146\n",
        "Dest.ELM          0.00190827\n",
        "Dest.ERI          0.000234589\n",
        "Dest.EWR          0.0111221\n",
        "Dest.FAT          0.00674829\n",
        "Dest.FAY          0.0100563\n",
        "Dest.FLL          0.0334246\n",
        "Dest.FNT          0.000476477\n",
        "Dest.GEG          0.00903228\n",
        "Dest.GRR          0.00271496\n",
        "Dest.GSO          0.0332601\n",
        "Dest.GSP          0.00115694\n",
        "Dest.HNL          0.0187483\n",
        "Dest.HTS          0.0130583\n",
        "Dest.IAD          0.00487949\n",
        "Dest.IAH          0.0352935\n",
        "Dest.ICT          0.0113235\n",
        "Dest.IND          0.0683638\n",
        "Dest.ISP          0.00831149\n",
        "Dest.JAX          0.00201476\n",
        "Dest.JFK          0.000957715\n",
        "Dest.KOA          0.00598436\n",
        "Dest.LAS          0.00269524\n",
        "Dest.LAX          0.0182181\n",
        "Dest.LEX          0.00162501\n",
        "Dest.LGA          0.0224025\n",
        "Dest.LIH          0.00662694\n",
        "Dest.LYH          0.0125059\n",
        "Dest.MCI          0.0173526\n",
        "Dest.MCO          0.0287871\n",
        "Dest.MDT          0.00611873\n",
        "Dest.MDW          0.00116469\n",
        "Dest.MHT          0.000313679\n",
        "Dest.MIA          0.00598536\n",
        "Dest.MRY          0.000127779\n",
        "Dest.MSY          0.01113\n",
        "Dest.OAJ          0.00173003\n",
        "Dest.OAK          0.0468881\n",
        "Dest.OGG          0.000412259\n",
        "Dest.OMA          0.000295731\n",
        "Dest.ORD          0.0206121\n",
        "Dest.ORF          0.00784478\n",
        "Dest.ORH          0.00117079\n",
        "Dest.PBI          0.0107441\n",
        "Dest.PDX          0.00113962\n",
        "Dest.PHF          0.00794992\n",
        "Dest.PHL          0.0121104\n",
        "Dest.PHX          0.112348\n",
        "Dest.PIT          0.0182527\n",
        "Dest.PSP          0.00784707\n",
        "Dest.PVD          0.00658786\n",
        "Dest.RDU          0.00166889\n",
        "Dest.RIC          0.00173009\n",
        "Dest.RNO          0.0126267\n",
        "Dest.ROA          0.00312592\n",
        "Dest.ROC          0.00303891\n",
        "Dest.RSW          0.000448838\n",
        "Dest.SAN          0.00728163\n",
        "Dest.SCK          0.000624704\n",
        "Dest.SDF          0.00158626\n",
        "Dest.SEA          0.000175086\n",
        "Dest.SFO          0.124653\n",
        "Dest.SJC          0.0105581\n",
        "Dest.SMF          0.00242548\n",
        "Dest.SNA          0.0227781\n",
        "Dest.STL          0.00287315\n",
        "Dest.SWF          0.00166077\n",
        "Dest.SYR          0.00102861\n",
        "Dest.TOL          0.00220328\n",
        "Dest.TPA          0.0296589\n",
        "Dest.TUS          0.00820308\n",
        "Dest.UCA          0.0048572\n",
        "fDayofMonth.f10   0.0300171\n",
        "fDayofMonth.f11   0.0171754\n",
        "fDayofMonth.f12   0.0377383\n",
        "fDayofMonth.f13   0.0132556\n",
        "fDayofMonth.f14   0.0261493\n",
        "fDayofMonth.f15   0.0101631\n",
        "fDayofMonth.f16   0.00493046\n",
        "fDayofMonth.f17   0.00640988\n",
        "fDayofMonth.f18   0.0361662\n",
        "fDayofMonth.f19   0.0481035\n",
        "fDayofMonth.f2    0.0752566\n",
        "fDayofMonth.f20   0.0340736\n",
        "fDayofMonth.f21   0.0484267\n",
        "fDayofMonth.f22   0.0232765\n",
        "fDayofMonth.f23   0.0355434\n",
        "fDayofMonth.f24   0.0378252\n",
        "fDayofMonth.f25   0.0610696\n",
        "fDayofMonth.f26   0.0333068\n",
        "fDayofMonth.f27   0.0718126\n",
        "fDayofMonth.f28   0.0485779\n",
        "fDayofMonth.f29   0.026999\n",
        "fDayofMonth.f3    0.121655\n",
        "fDayofMonth.f30   0.0792171\n",
        "fDayofMonth.f31   0.023174\n",
        "fDayofMonth.f4    0.125134\n",
        "fDayofMonth.f5    0.0628596\n",
        "fDayofMonth.f6    0.0374698\n",
        "fDayofMonth.f7    0.00939158\n",
        "fDayofMonth.f8    0.018818\n",
        "fDayofMonth.f9    0.0612009\n",
        "UniqueCarrier.CO  0.0149841\n",
        "UniqueCarrier.DL  0.119828\n",
        "UniqueCarrier.HP  0.369366\n",
        "UniqueCarrier.PI  0.0788512\n",
        "UniqueCarrier.PS  0.0268774\n",
        "UniqueCarrier.TW  0.0035462\n",
        "UniqueCarrier.UA  0.0527518\n",
        "UniqueCarrier.US  0.217322\n",
        "UniqueCarrier.WN  0.160793\n",
        "fDayOfWeek.f2     0.0762807\n",
        "fDayOfWeek.f3     0.0296652\n",
        "fDayOfWeek.f4     0.0240287\n",
        "fDayOfWeek.f5     0.11189\n",
        "fDayOfWeek.f6     0.0834373\n",
        "fDayOfWeek.f7     0.0239012\n",
        "fMonth.f10        0.118996\n",
        "Distance          0.132031\n",
        "Intercept         0.134876\n",
        "\n"
       ]
      }
     ],
     "prompt_number": 6
    },
    {
     "cell_type": "code",
     "collapsed": false,
     "input": [
      "#uploading test file to h2o\n",
      "air_test = h2o.import_frame(path=h2o.locate(\"smalldata/airlines/AirlinesTest.csv.zip\"))"
     ],
     "language": "python",
     "metadata": {},
     "outputs": [
      {
       "output_type": "stream",
       "stream": "stdout",
       "text": [
        "\n",
        "\r",
        "Parse Progress: [                                                  ] 00%"
       ]
      },
      {
       "output_type": "stream",
       "stream": "stdout",
       "text": [
        "\r",
        "Parse Progress: [##################################################] 100%"
       ]
      },
      {
       "output_type": "stream",
       "stream": "stdout",
       "text": [
        "\n",
        "Veckeys [{u'URL': None, u'type': u'Key<Vec>', u'name': u'$04ff0d010000ffffffff$nfs://Users/ece/0xdata/h2o-dev/smalldata/airlines/AirlinesTest.csv.zip', u'__meta': {u'schema_name': u'VecKeyV3', u'schema_version': 3, u'schema_type': u'Key<Vec>'}}, {u'URL': None, u'type': u'Key<Vec>', u'name': u'$04ff0e010000ffffffff$nfs://Users/ece/0xdata/h2o-dev/smalldata/airlines/AirlinesTest.csv.zip', u'__meta': {u'schema_name': u'VecKeyV3', u'schema_version': 3, u'schema_type': u'Key<Vec>'}}, {u'URL': None, u'type': u'Key<Vec>', u'name': u'$04ff0f010000ffffffff$nfs://Users/ece/0xdata/h2o-dev/smalldata/airlines/AirlinesTest.csv.zip', u'__meta': {u'schema_name': u'VecKeyV3', u'schema_version': 3, u'schema_type': u'Key<Vec>'}}, {u'URL': None, u'type': u'Key<Vec>', u'name': u'$04ff10010000ffffffff$nfs://Users/ece/0xdata/h2o-dev/smalldata/airlines/AirlinesTest.csv.zip', u'__meta': {u'schema_name': u'VecKeyV3', u'schema_version': 3, u'schema_type': u'Key<Vec>'}}, {u'URL': None, u'type': u'Key<Vec>', u'name': u'$04ff11010000ffffffff$nfs://Users/ece/0xdata/h2o-dev/smalldata/airlines/AirlinesTest.csv.zip', u'__meta': {u'schema_name': u'VecKeyV3', u'schema_version': 3, u'schema_type': u'Key<Vec>'}}, {u'URL': None, u'type': u'Key<Vec>', u'name': u'$04ff12010000ffffffff$nfs://Users/ece/0xdata/h2o-dev/smalldata/airlines/AirlinesTest.csv.zip', u'__meta': {u'schema_name': u'VecKeyV3', u'schema_version': 3, u'schema_type': u'Key<Vec>'}}, {u'URL': None, u'type': u'Key<Vec>', u'name': u'$04ff13010000ffffffff$nfs://Users/ece/0xdata/h2o-dev/smalldata/airlines/AirlinesTest.csv.zip', u'__meta': {u'schema_name': u'VecKeyV3', u'schema_version': 3, u'schema_type': u'Key<Vec>'}}, {u'URL': None, u'type': u'Key<Vec>', u'name': u'$04ff14010000ffffffff$nfs://Users/ece/0xdata/h2o-dev/smalldata/airlines/AirlinesTest.csv.zip', u'__meta': {u'schema_name': u'VecKeyV3', u'schema_version': 3, u'schema_type': u'Key<Vec>'}}, {u'URL': None, u'type': u'Key<Vec>', u'name': u'$04ff15010000ffffffff$nfs://Users/ece/0xdata/h2o-dev/smalldata/airlines/AirlinesTest.csv.zip', u'__meta': {u'schema_name': u'VecKeyV3', u'schema_version': 3, u'schema_type': u'Key<Vec>'}}, {u'URL': None, u'type': u'Key<Vec>', u'name': u'$04ff16010000ffffffff$nfs://Users/ece/0xdata/h2o-dev/smalldata/airlines/AirlinesTest.csv.zip', u'__meta': {u'schema_name': u'VecKeyV3', u'schema_version': 3, u'schema_type': u'Key<Vec>'}}, {u'URL': None, u'type': u'Key<Vec>', u'name': u'$04ff17010000ffffffff$nfs://Users/ece/0xdata/h2o-dev/smalldata/airlines/AirlinesTest.csv.zip', u'__meta': {u'schema_name': u'VecKeyV3', u'schema_version': 3, u'schema_type': u'Key<Vec>'}}, {u'URL': None, u'type': u'Key<Vec>', u'name': u'$04ff18010000ffffffff$nfs://Users/ece/0xdata/h2o-dev/smalldata/airlines/AirlinesTest.csv.zip', u'__meta': {u'schema_name': u'VecKeyV3', u'schema_version': 3, u'schema_type': u'Key<Vec>'}}]\n",
        "Imported /Users/ece/0xdata/h2o-dev/smalldata/airlines/AirlinesTest.csv.zip into cluster with 2691 rows and 12 cols\n"
       ]
      }
     ],
     "prompt_number": 7
    },
    {
     "cell_type": "code",
     "collapsed": false,
     "input": [
      "# predicting & performance on test file\n",
      "gbm_pred = gbm.predict(air_test)\n",
      "print \"GBM predictions: \"\n",
      "gbm_pred.head()\n",
      "\n",
      "gbm_perf = gbm.model_performance(air_test)\n",
      "print \"GBM performance: \"\n",
      "gbm_perf.show()\n",
      "\n",
      "glm_pred = glm.predict(air_test)\n",
      "print \"GLM predictions: \"\n",
      "glm_pred.head()\n",
      "\n",
      "glm_perf = glm.model_performance(air_test)\n",
      "print \"GLM performance: \"\n",
      "glm_perf.show()"
     ],
     "language": "python",
     "metadata": {},
     "outputs": [
      {
       "output_type": "stream",
       "stream": "stdout",
       "text": [
        "GBM predictions: \n",
        "First 10 rows and first 3 columns: \n",
        "  Row ID    predict        NO       YES\n",
        "--------  ---------  --------  --------\n",
        "       1          1  0.478171  0.521829\n",
        "       2          1  0.483034  0.516966\n",
        "       3          1  0.484963  0.515037\n",
        "       4          1  0.402803  0.597197\n",
        "       5          0  0.559797  0.440203\n",
        "       6          0  0.559797  0.440203\n",
        "       7          0  0.549388  0.450612\n",
        "       8          0  0.546227  0.453773\n",
        "       9          0  0.56224   0.43776\n",
        "      10          0  0.56224   0.43776\n",
        "\n",
        "GBM performance: "
       ]
      },
      {
       "output_type": "stream",
       "stream": "stdout",
       "text": [
        "\n",
        "\n",
        "Overall AUC (independent of criterion): 0.692885111308\n",
        "Overall Gini (independent of criterion): 0.385770222615\n",
        "\n",
        "\n",
        "Maximum Metric:\n",
        "\n",
        "metric                  threshold       value           idx\n",
        "----------------------  --------------  --------------  -----\n",
        "f1                      0.46360542698   0.726716708368  185.0\n",
        "f2                      0.38093943365   0.859402460457  247.0\n",
        "f0point5                0.536340572985  0.688183515604  125.0\n",
        "accuracy                0.535417722264  0.659977703456  126.0\n",
        "precision               0.690490157579  0.941176470588\n",
        "recall                  0.369733151917  1.0             254.0\n",
        "specificity             0.690490157579  0.999178307313\n",
        "absolute_MCC            0.536340572985  0.311457227485  125.0\n",
        "min_per_class_accuracy  0.543628342733  0.64789687924   118.0\n",
        "tns                     0.690490157579  1216.0\n",
        "fns                     0.690490157579  1458.0\n",
        "fps                     0.368384513355  1217.0          255.0\n",
        "tps                     0.369733151917  1474.0          254.0\n",
        "idx\n",
        "\n",
        "\n",
        "GLM predictions: \n",
        "First"
       ]
      },
      {
       "output_type": "stream",
       "stream": "stdout",
       "text": [
        " 10 rows and first 3 columns: \n",
        "  Row ID    predict         0         1\n",
        "--------  ---------  --------  --------\n",
        "       1          1  0.427501  0.572499\n",
        "       2          1  0.453054  0.546946\n",
        "       3          1  0.430714  0.569286\n",
        "       4          1  0.478743  0.521257\n",
        "       5          0  0.514277  0.485723\n",
        "       6          0  0.520323  0.479677\n",
        "       7          1  0.467419  0.532581\n",
        "       8          1  0.440104  0.559896\n",
        "       9          1  0.495114  0.504886\n",
        "      10          1  0.491416  0.508584\n",
        "\n",
        "GLM performance: \n",
        "\n",
        "Overall AUC (independent of criterion): 0.656190177818\n",
        "Overall Gini (independent of criterion): 0.312380355636\n",
        "\n",
        "\n",
        "Maximum Metric:\n",
        "\n",
        "metric                  threshold       value           idx\n",
        "----------------------  --------------  --------------  -----\n",
        "f1                      0.421627072973  0.724260958206  215.0\n",
        "f2                      0.351591931353  0.859292964648  250.0\n",
        "f0point5                0.511627113736  0.652517379398  165.0\n",
        "accuracy                0.511627113736  0.628019323671  165.0\n",
        "precision               0.76479772505   1.0\n",
        "recall                  0.332226635549  1.0             255.0\n",
        "specificity             0.76479772505   1.0\n",
        "absolute_MCC            0.510665969858  0.241566860008  166.0\n",
        "min_per_class_accuracy  0.556021334061  0.602442333786  124.0\n",
        "tns                     0.76479772505   1217.0\n",
        "fns                     0.76479772505   1470.0\n",
        "fps                     0.332226635549  1217.0          255.0\n",
        "tps                     0.332226635549  1474.0          255.0\n",
        "idx\n",
        "\n",
        "\n"
       ]
      }
     ],
     "prompt_number": 8
    },
    {
     "cell_type": "code",
     "collapsed": false,
     "input": [
      "# Building confusion matrix for test set\n",
      "gbm_CM = gbm_perf.confusion_matrices()\n",
      "print \"GBM Confusion Matrix for maximum F1 criteria (default):\"\n",
      "print(gbm_CM)\n",
      "print\n",
      "\n",
      "glm_CM = glm_perf.confusion_matrices()\n",
      "print \"GLM Confusion Matrix for maximum F1 criteria (default)\"\n",
      "print(glm_CM)"
     ],
     "language": "python",
     "metadata": {},
     "outputs": [
      {
       "output_type": "stream",
       "stream": "stdout",
       "text": [
        "GBM Confusion Matrix for maximum F1 criteria (default):\n",
        "[[[401.0, 816.0], [167.0, 1307.0]]]\n",
        "\n",
        "GLM Confusion Matrix for maximum F1 criteria (default)\n",
        "[[[188.0, 1029.0], [53.0, 1421.0]]]\n"
       ]
      }
     ],
     "prompt_number": 9
    },
    {
     "cell_type": "code",
     "collapsed": false,
     "input": [
      "# ROC for test set\n",
      "print('GBM Precision: {0}'.format(gbm_perf.precision()))\n",
      "print('GBM Accuracy: {0}'.format(gbm_perf.accuracy()))\n",
      "print('GBM AUC: {0}'.format(gbm_perf.auc()))\n",
      "print\n",
      "print('GLM Precision: {0}'.format(glm_perf.precision()))\n",
      "print('GLM Accuracy: {0}'.format(glm_perf.accuracy()))\n",
      "print('GLM AUC: {0}'.format(glm_perf.auc()))"
     ],
     "language": "python",
     "metadata": {},
     "outputs": [
      {
       "output_type": "stream",
       "stream": "stdout",
       "text": [
        "GBM Precision: [[0.6904901575788628, 0.9411764705882353]]\n",
        "GBM Accuracy: [[0.5354177222644946, 0.6599777034559644]]\n",
        "GBM AUC: 0.692885111308\n",
        "\n",
        "GLM Precision: [[0.7647977250499192, 1.0]]\n",
        "GLM Accuracy: [[0.5116271137359518, 0.6280193236714976]]\n",
        "GLM AUC: 0.656190177818\n"
       ]
      }
     ],
     "prompt_number": 10
    }
   ],
   "metadata": {}
  }
 ]
}